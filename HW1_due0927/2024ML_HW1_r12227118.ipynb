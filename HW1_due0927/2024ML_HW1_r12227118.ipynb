{
  "nbformat": 4,
  "nbformat_minor": 0,
  "metadata": {
    "colab": {
      "provenance": []
    },
    "kernelspec": {
      "name": "python3",
      "display_name": "Python 3"
    }
  },
  "cells": [
    {
      "cell_type": "markdown",
      "metadata": {
        "id": "mz0_QVkxCrX3"
      },
      "source": [
        "# **2024 ML FALL HW1: PM2.5 Prediction (Regression)**"
      ]
    },
    {
      "cell_type": "markdown",
      "metadata": {
        "id": "ZeZnPAiwDRWG"
      },
      "source": [
        "Author: MLTAs\n",
        "\n",
        "Methods:\n",
        "* Training with all data\n",
        "* Optimizer: RMSProp\n",
        "* TODO:\n",
        " - Change the \"valid\" function and the \"train_config\"\n",
        " - Implement 2nd-order polynomial regression model (without interaction terms)\n",
        "\n"
      ]
    },
    {
      "cell_type": "markdown",
      "metadata": {
        "id": "wS_4-77xHk44"
      },
      "source": [
        "# **Import Some Packages**"
      ]
    },
    {
      "cell_type": "code",
      "metadata": {
        "id": "k-onQd4JNA5H"
      },
      "source": [
        "import numpy as np\n",
        "import csv\n",
        "import math\n",
        "import pandas as pd\n",
        "import os"
      ],
      "execution_count": 408,
      "outputs": []
    },
    {
      "cell_type": "markdown",
      "source": [
        "# **Fix random seed**\n",
        "\n",
        "\n",
        "This is for the reproduction of your result. **DO NOT modify this secton!**\n"
      ],
      "metadata": {
        "id": "aqMEWsRekx0L"
      }
    },
    {
      "cell_type": "code",
      "source": [
        "seed = 9487\n",
        "np.random.seed(seed)"
      ],
      "metadata": {
        "id": "UxDA6fJb_Uem"
      },
      "execution_count": 409,
      "outputs": []
    },
    {
      "cell_type": "markdown",
      "metadata": {
        "id": "0OVRMuTAc1_E"
      },
      "source": [
        "# **Download training data**\n"
      ]
    },
    {
      "cell_type": "code",
      "source": [
        "!gdown --id \"1Hfzrcm69QwdFvdeF0uASoQlcVxKw_hHy\" --output \"train.csv\"\n",
        "!gdown --id '155N6fzI7vAFzHAGdy6jkaWIksWH6Y1G2' --output \"test.csv\"\n",
        "\n",
        "# Incase the links above die, you can use the following instead.\n",
        "#!gdown --id '11abE854Eyv4BA7qt5k8r_80sJ3KuOQUN' --output \"train.csv\"\n",
        "#!gdown --id '1uod-Z4ztluXnuHtgUbm39nMudUKqXHMl' --output \"test.csv\"\n",
        "\n",
        "# If the data is still missing, you can manually download it from kaggle, and upload the files under /content"
      ],
      "metadata": {
        "colab": {
          "base_uri": "https://localhost:8080/"
        },
        "id": "s0Zo8JUp5kJ4",
        "outputId": "c349f3c6-efc4-480b-e085-3a11c2806a22"
      },
      "execution_count": 410,
      "outputs": [
        {
          "output_type": "stream",
          "name": "stdout",
          "text": [
            "/usr/local/lib/python3.10/dist-packages/gdown/__main__.py:140: FutureWarning: Option `--id` was deprecated in version 4.3.1 and will be removed in 5.0. You don't need to pass it anymore to use a file ID.\n",
            "  warnings.warn(\n",
            "Downloading...\n",
            "From: https://drive.google.com/uc?id=1Hfzrcm69QwdFvdeF0uASoQlcVxKw_hHy\n",
            "To: /content/train.csv\n",
            "100% 324k/324k [00:00<00:00, 17.3MB/s]\n",
            "/usr/local/lib/python3.10/dist-packages/gdown/__main__.py:140: FutureWarning: Option `--id` was deprecated in version 4.3.1 and will be removed in 5.0. You don't need to pass it anymore to use a file ID.\n",
            "  warnings.warn(\n",
            "Downloading...\n",
            "From: https://drive.google.com/uc?id=155N6fzI7vAFzHAGdy6jkaWIksWH6Y1G2\n",
            "To: /content/test.csv\n",
            "100% 49.0k/49.0k [00:00<00:00, 77.9MB/s]\n"
          ]
        }
      ]
    },
    {
      "cell_type": "code",
      "metadata": {
        "id": "yHpuZmQwXpz8"
      },
      "source": [
        "def valid(x, y, feats):\n",
        "  # TODO: Try to filter out extreme values.\n",
        "  #  ex: If PM2.5 > 100, then we don't use the data to train (return False), otherwise return True,\n",
        "  if (y > 22): # Q90 of y\n",
        "    return False\n",
        "  if (2 in feats): # NO\n",
        "    index = feats.index(2)\n",
        "    if any(x[index] > 20):\n",
        "      return False\n",
        "  # if (3 in feats): # NO2\n",
        "  #   index = feats.index(3)\n",
        "  #   if any(x[index] > 35):\n",
        "  #     return False\n",
        "  # if (6 in feats): # PM10\n",
        "  #   index = feats.index(6)\n",
        "  #   if any(x[index] > 200):\n",
        "  #     return False\n",
        "  # if (8 in feats): # RAINFALL\n",
        "  #   index = feats.index(8)\n",
        "  #   if any(x[index] > 40):\n",
        "  #     return False\n",
        "  if (10 in feats): # SO2\n",
        "    index = feats.index(10)\n",
        "    if any(x[index] > 50):\n",
        "      return False\n",
        "  if (11 in feats): # WD_HR\n",
        "    index = feats.index(11)\n",
        "    if any(x[index] > 340):\n",
        "      return False\n",
        "  # if (13 in feats): # WINDSPEED\n",
        "  #   index = feats.index(13)\n",
        "  #   if any(x[index] > 10):\n",
        "  #     return False\n",
        "\n",
        "  return True\n",
        "\n",
        "\n",
        "# Create your dataset\n",
        "def parse2train(data, feats):\n",
        "\n",
        "  x = []\n",
        "  y = []\n",
        "\n",
        "  # Use data #0~#7 to predict #8 => Total data length should be decresased by 8.\n",
        "  total_length = data.shape[1] - 8\n",
        "\n",
        "  for i in range(total_length):\n",
        "    x_tmp = data[feats, i:i+8] # Use data #0~#7 to predict #8, data #1~#8 to predict #9, etc.\n",
        "    y_tmp = data[-1, i+8] # last column of (i+8)th row: PM2.5\n",
        "    # x_tmp 8x8\n",
        "    # Filter out extreme values to train.\n",
        "    if valid(x_tmp, y_tmp, feats):\n",
        "      x.append(x_tmp.reshape(-1,))\n",
        "      y.append(y_tmp)\n",
        "\n",
        "  # x.shape: (n, m_feats, 8)\n",
        "  # y.shape: (n, 1)\n",
        "  x = np.array(x)\n",
        "  y = np.array(y)\n",
        "\n",
        "  return x,y\n"
      ],
      "execution_count": 411,
      "outputs": []
    },
    {
      "cell_type": "markdown",
      "metadata": {
        "id": "WyEpvVVQdZ0c"
      },
      "source": [
        "#**RMSProp**\n",
        "* This is our gradient descent algorithm. RMSProp was implemented.\n",
        "* You can implement another algorithm such as SGD, which may (or may not) boost the performance.\n",
        "* However, **modules like sklearn and pytorch are not allowed**.\n",
        "* Ref:\n",
        " - G. Hinton's lecture: https://www.cs.toronto.edu/~tijmen/csc321/slides/lecture_slides_lec6.pdf\n",
        " - figure: https://miro.medium.com/v2/resize:fit:1366/format:webp/0*n5V-NxsJJhgFYG8b\n",
        "\n",
        "![](https://miro.medium.com/v2/resize:fit:1366/format:webp/0*n5V-NxsJJhgFYG8b)\n",
        "\n"
      ]
    },
    {
      "cell_type": "code",
      "source": [
        "def minibatch(x, y, config):\n",
        "    # Randomize the data in minibatch\n",
        "    index = np.arange(x.shape[0])\n",
        "    np.random.shuffle(index)\n",
        "    x = x[index]\n",
        "    y = y[index]\n",
        "\n",
        "    # Initialization\n",
        "    batch_size = config.batch_size\n",
        "    lr = config.lr\n",
        "    lam = config.lam\n",
        "    epoch = config.epoch\n",
        "    decay_rate = config.decay_rate\n",
        "    epsilon = 1e-8\n",
        "\n",
        "    # Linear regression: only contains two parameters (w, b).\n",
        "    w = np.full(x[0].shape, 0.1).reshape(-1, 1) # to column\n",
        "    bias = 0.1\n",
        "\n",
        "    # Optimizer states\n",
        "    cache_w = np.zeros_like(w)\n",
        "    cache_b = 0.0\n",
        "    momen_w = np.zeros_like(w)\n",
        "    momen_b = 0.0\n",
        "\n",
        "    # Training loop\n",
        "    for num in range(epoch):\n",
        "        for b in range(int(x.shape[0] / batch_size)):\n",
        "            x_batch = x[b * batch_size:(b + 1) * batch_size]\n",
        "            y_batch = y[b * batch_size:(b + 1) * batch_size].reshape(-1, 1)\n",
        "\n",
        "            # Prediction of linear regression\n",
        "            pred = np.dot(x_batch, w) + bias\n",
        "\n",
        "            # Loss\n",
        "            loss = y_batch - pred\n",
        "\n",
        "            # Compute gradient\n",
        "            g_t = np.dot(x_batch.transpose(), loss) * (-2)\n",
        "            g_t_b = loss.sum(axis=0) * (-2)\n",
        "\n",
        "            # Update cache\n",
        "            cache_w = decay_rate * cache_w + (1 - decay_rate) * g_t**2\n",
        "            cache_b = decay_rate * cache_b + (1 - decay_rate) * g_t_b**2\n",
        "\n",
        "            # Update weight & bias\n",
        "            update_w = lr * g_t / (np.sqrt(cache_w) + epsilon) - momen_w\n",
        "            update_b = lr * g_t_b / (np.sqrt(cache_b) + epsilon) - momen_b\n",
        "            w -= update_w\n",
        "            bias -= update_b\n",
        "\n",
        "            # Update Momentum\n",
        "            momen_w = lam * update_w\n",
        "            momen_b = lam * update_b\n",
        "    return w, bias\n",
        "\n",
        "# TODO: Implement 2-nd polynomial regression version for the report.\n",
        "def minibatch_2(x, y, config):\n",
        "    # Randomize the data in minibatch\n",
        "    index = np.arange(x.shape[0])\n",
        "    np.random.shuffle(index)\n",
        "    x = x[index]\n",
        "    x2 = np.square(x[index]) # 2nd order term\n",
        "    y = y[index]\n",
        "\n",
        "    # Initialization\n",
        "    batch_size = config.batch_size\n",
        "    lr = config.lr\n",
        "    lam = config.lam\n",
        "    epoch = config.epoch\n",
        "    decay_rate = config.decay_rate\n",
        "    epsilon = 1e-8\n",
        "\n",
        "    # Linear regression: only contains two parameters (w, b).\n",
        "    # reshape w to m x 1 column\n",
        "    w = np.full(x[0].shape, 0.1).reshape(-1, 1)\n",
        "    w2 = np.full(x[0].shape, 0.1).reshape(-1, 1) # 2nd order\n",
        "    bias = 0.1\n",
        "\n",
        "    # Optimizer states\n",
        "    cache_w = np.zeros_like(w)\n",
        "    cache_w2 = np.zeros_like(w2)\n",
        "    cache_b = 0.0\n",
        "\n",
        "    # Training loop\n",
        "    for num in range(epoch):\n",
        "        for b in range(int(x.shape[0] / batch_size)):\n",
        "            x_batch = x[b * batch_size:(b + 1) * batch_size]\n",
        "            x2_batch = x2[b * batch_size:(b + 1) * batch_size] # m x 1 x n\n",
        "            y_batch = y[b * batch_size:(b + 1) * batch_size].reshape(-1, 1)\n",
        "\n",
        "            # Prediction of linear regression\n",
        "            pred = np.dot(x_batch, w) + np.dot(x2_batch, w2) + bias\n",
        "\n",
        "            # Loss\n",
        "            loss = y_batch - pred\n",
        "\n",
        "            # Compute gradient\n",
        "            g_t = np.dot(x_batch.transpose(), loss) * (-2) # 1 x m\n",
        "            g_t_x2 = np.dot(x2_batch.transpose(), loss) * (-2) # 1 x m\n",
        "            g_t_b = loss.sum(axis=0) * (-2)\n",
        "\n",
        "            # Update cache\n",
        "            cache_w = decay_rate * cache_w + (1 - decay_rate) * g_t**2\n",
        "            cache_w2 = decay_rate * cache_w2 + (1 - decay_rate) * g_t_x2**2\n",
        "            cache_b = decay_rate * cache_b + (1 - decay_rate) * g_t_b**2\n",
        "\n",
        "            # Update weight & bias\n",
        "            w -= lr * g_t / (np.sqrt(cache_w) + epsilon)\n",
        "            w2 -= lr * g_t_x2 / (np.sqrt(cache_w2) + epsilon)\n",
        "            bias -= lr * g_t_b / (np.sqrt(cache_b) + epsilon)\n",
        "\n",
        "    return w, w2, bias"
      ],
      "metadata": {
        "id": "KcofxZ8c4kZE"
      },
      "execution_count": 412,
      "outputs": []
    },
    {
      "cell_type": "code",
      "source": [
        "from argparse import Namespace\n",
        "\n",
        "# TODO: Tune the config to boost your performance.\n",
        "train_config = Namespace(\n",
        "    batch_size = 128, # default 256\n",
        "    lr = 0.03, # learning rate: eta default 0.1\n",
        "    lam = 0.002,\n",
        "    epoch = 4, #3\n",
        "    decay_rate = 0.9 # default 0.9\n",
        ")"
      ],
      "metadata": {
        "id": "ZpdOsMfXLxH2"
      },
      "execution_count": 413,
      "outputs": []
    },
    {
      "cell_type": "markdown",
      "source": [],
      "metadata": {
        "id": "OeNgOMD4e506"
      }
    },
    {
      "cell_type": "markdown",
      "source": [
        "# **Training your regression model**"
      ],
      "metadata": {
        "id": "ay-RhqqA88vS"
      }
    },
    {
      "cell_type": "code",
      "source": [
        "data = pd.read_csv(\"/content/train.csv\")\n",
        "data.head()"
      ],
      "metadata": {
        "id": "EoR5Q5kvJm4t",
        "colab": {
          "base_uri": "https://localhost:8080/",
          "height": 206
        },
        "outputId": "6ee1bd11-c189-46f0-8a53-3e5a1dd938c1"
      },
      "execution_count": 414,
      "outputs": [
        {
          "output_type": "execute_result",
          "data": {
            "text/plain": [
              "   AMB_TEMP    CO   NO  NO2   NOx    O3  PM10  WS_HR  RAINFALL  RH  SO2  \\\n",
              "0      10.8  0.32  1.7  8.6  10.3  22.9    21    0.6       0.0  71  1.9   \n",
              "1      10.8  0.27  1.6  6.2   7.8  23.8    20    1.4       0.0  71  1.7   \n",
              "2      11.0  0.25  0.9  5.4   6.3  27.4    21    0.8       0.0  68  1.6   \n",
              "3      11.0  0.23  0.7  3.1   3.8  29.5    21    1.8       0.0  68  1.6   \n",
              "4      11.3  0.22  0.8  2.9   3.8  30.7    16    1.9       0.0  67  1.6   \n",
              "\n",
              "   WD_HR  WIND_DIREC  WIND_SPEED  PM2.5  \n",
              "0    172         171         0.6     15  \n",
              "1    161         129         1.8     13  \n",
              "2    152         147         1.5     12  \n",
              "3    138         145         1.7      9  \n",
              "4    140         139         1.7      9  "
            ],
            "text/html": [
              "\n",
              "  <div id=\"df-29dab3c6-734a-4430-8284-edf09196cc94\" class=\"colab-df-container\">\n",
              "    <div>\n",
              "<style scoped>\n",
              "    .dataframe tbody tr th:only-of-type {\n",
              "        vertical-align: middle;\n",
              "    }\n",
              "\n",
              "    .dataframe tbody tr th {\n",
              "        vertical-align: top;\n",
              "    }\n",
              "\n",
              "    .dataframe thead th {\n",
              "        text-align: right;\n",
              "    }\n",
              "</style>\n",
              "<table border=\"1\" class=\"dataframe\">\n",
              "  <thead>\n",
              "    <tr style=\"text-align: right;\">\n",
              "      <th></th>\n",
              "      <th>AMB_TEMP</th>\n",
              "      <th>CO</th>\n",
              "      <th>NO</th>\n",
              "      <th>NO2</th>\n",
              "      <th>NOx</th>\n",
              "      <th>O3</th>\n",
              "      <th>PM10</th>\n",
              "      <th>WS_HR</th>\n",
              "      <th>RAINFALL</th>\n",
              "      <th>RH</th>\n",
              "      <th>SO2</th>\n",
              "      <th>WD_HR</th>\n",
              "      <th>WIND_DIREC</th>\n",
              "      <th>WIND_SPEED</th>\n",
              "      <th>PM2.5</th>\n",
              "    </tr>\n",
              "  </thead>\n",
              "  <tbody>\n",
              "    <tr>\n",
              "      <th>0</th>\n",
              "      <td>10.8</td>\n",
              "      <td>0.32</td>\n",
              "      <td>1.7</td>\n",
              "      <td>8.6</td>\n",
              "      <td>10.3</td>\n",
              "      <td>22.9</td>\n",
              "      <td>21</td>\n",
              "      <td>0.6</td>\n",
              "      <td>0.0</td>\n",
              "      <td>71</td>\n",
              "      <td>1.9</td>\n",
              "      <td>172</td>\n",
              "      <td>171</td>\n",
              "      <td>0.6</td>\n",
              "      <td>15</td>\n",
              "    </tr>\n",
              "    <tr>\n",
              "      <th>1</th>\n",
              "      <td>10.8</td>\n",
              "      <td>0.27</td>\n",
              "      <td>1.6</td>\n",
              "      <td>6.2</td>\n",
              "      <td>7.8</td>\n",
              "      <td>23.8</td>\n",
              "      <td>20</td>\n",
              "      <td>1.4</td>\n",
              "      <td>0.0</td>\n",
              "      <td>71</td>\n",
              "      <td>1.7</td>\n",
              "      <td>161</td>\n",
              "      <td>129</td>\n",
              "      <td>1.8</td>\n",
              "      <td>13</td>\n",
              "    </tr>\n",
              "    <tr>\n",
              "      <th>2</th>\n",
              "      <td>11.0</td>\n",
              "      <td>0.25</td>\n",
              "      <td>0.9</td>\n",
              "      <td>5.4</td>\n",
              "      <td>6.3</td>\n",
              "      <td>27.4</td>\n",
              "      <td>21</td>\n",
              "      <td>0.8</td>\n",
              "      <td>0.0</td>\n",
              "      <td>68</td>\n",
              "      <td>1.6</td>\n",
              "      <td>152</td>\n",
              "      <td>147</td>\n",
              "      <td>1.5</td>\n",
              "      <td>12</td>\n",
              "    </tr>\n",
              "    <tr>\n",
              "      <th>3</th>\n",
              "      <td>11.0</td>\n",
              "      <td>0.23</td>\n",
              "      <td>0.7</td>\n",
              "      <td>3.1</td>\n",
              "      <td>3.8</td>\n",
              "      <td>29.5</td>\n",
              "      <td>21</td>\n",
              "      <td>1.8</td>\n",
              "      <td>0.0</td>\n",
              "      <td>68</td>\n",
              "      <td>1.6</td>\n",
              "      <td>138</td>\n",
              "      <td>145</td>\n",
              "      <td>1.7</td>\n",
              "      <td>9</td>\n",
              "    </tr>\n",
              "    <tr>\n",
              "      <th>4</th>\n",
              "      <td>11.3</td>\n",
              "      <td>0.22</td>\n",
              "      <td>0.8</td>\n",
              "      <td>2.9</td>\n",
              "      <td>3.8</td>\n",
              "      <td>30.7</td>\n",
              "      <td>16</td>\n",
              "      <td>1.9</td>\n",
              "      <td>0.0</td>\n",
              "      <td>67</td>\n",
              "      <td>1.6</td>\n",
              "      <td>140</td>\n",
              "      <td>139</td>\n",
              "      <td>1.7</td>\n",
              "      <td>9</td>\n",
              "    </tr>\n",
              "  </tbody>\n",
              "</table>\n",
              "</div>\n",
              "    <div class=\"colab-df-buttons\">\n",
              "\n",
              "  <div class=\"colab-df-container\">\n",
              "    <button class=\"colab-df-convert\" onclick=\"convertToInteractive('df-29dab3c6-734a-4430-8284-edf09196cc94')\"\n",
              "            title=\"Convert this dataframe to an interactive table.\"\n",
              "            style=\"display:none;\">\n",
              "\n",
              "  <svg xmlns=\"http://www.w3.org/2000/svg\" height=\"24px\" viewBox=\"0 -960 960 960\">\n",
              "    <path d=\"M120-120v-720h720v720H120Zm60-500h600v-160H180v160Zm220 220h160v-160H400v160Zm0 220h160v-160H400v160ZM180-400h160v-160H180v160Zm440 0h160v-160H620v160ZM180-180h160v-160H180v160Zm440 0h160v-160H620v160Z\"/>\n",
              "  </svg>\n",
              "    </button>\n",
              "\n",
              "  <style>\n",
              "    .colab-df-container {\n",
              "      display:flex;\n",
              "      gap: 12px;\n",
              "    }\n",
              "\n",
              "    .colab-df-convert {\n",
              "      background-color: #E8F0FE;\n",
              "      border: none;\n",
              "      border-radius: 50%;\n",
              "      cursor: pointer;\n",
              "      display: none;\n",
              "      fill: #1967D2;\n",
              "      height: 32px;\n",
              "      padding: 0 0 0 0;\n",
              "      width: 32px;\n",
              "    }\n",
              "\n",
              "    .colab-df-convert:hover {\n",
              "      background-color: #E2EBFA;\n",
              "      box-shadow: 0px 1px 2px rgba(60, 64, 67, 0.3), 0px 1px 3px 1px rgba(60, 64, 67, 0.15);\n",
              "      fill: #174EA6;\n",
              "    }\n",
              "\n",
              "    .colab-df-buttons div {\n",
              "      margin-bottom: 4px;\n",
              "    }\n",
              "\n",
              "    [theme=dark] .colab-df-convert {\n",
              "      background-color: #3B4455;\n",
              "      fill: #D2E3FC;\n",
              "    }\n",
              "\n",
              "    [theme=dark] .colab-df-convert:hover {\n",
              "      background-color: #434B5C;\n",
              "      box-shadow: 0px 1px 3px 1px rgba(0, 0, 0, 0.15);\n",
              "      filter: drop-shadow(0px 1px 2px rgba(0, 0, 0, 0.3));\n",
              "      fill: #FFFFFF;\n",
              "    }\n",
              "  </style>\n",
              "\n",
              "    <script>\n",
              "      const buttonEl =\n",
              "        document.querySelector('#df-29dab3c6-734a-4430-8284-edf09196cc94 button.colab-df-convert');\n",
              "      buttonEl.style.display =\n",
              "        google.colab.kernel.accessAllowed ? 'block' : 'none';\n",
              "\n",
              "      async function convertToInteractive(key) {\n",
              "        const element = document.querySelector('#df-29dab3c6-734a-4430-8284-edf09196cc94');\n",
              "        const dataTable =\n",
              "          await google.colab.kernel.invokeFunction('convertToInteractive',\n",
              "                                                    [key], {});\n",
              "        if (!dataTable) return;\n",
              "\n",
              "        const docLinkHtml = 'Like what you see? Visit the ' +\n",
              "          '<a target=\"_blank\" href=https://colab.research.google.com/notebooks/data_table.ipynb>data table notebook</a>'\n",
              "          + ' to learn more about interactive tables.';\n",
              "        element.innerHTML = '';\n",
              "        dataTable['output_type'] = 'display_data';\n",
              "        await google.colab.output.renderOutput(dataTable, element);\n",
              "        const docLink = document.createElement('div');\n",
              "        docLink.innerHTML = docLinkHtml;\n",
              "        element.appendChild(docLink);\n",
              "      }\n",
              "    </script>\n",
              "  </div>\n",
              "\n",
              "\n",
              "<div id=\"df-321cd2fe-f3e5-446a-8064-d4f41963a438\">\n",
              "  <button class=\"colab-df-quickchart\" onclick=\"quickchart('df-321cd2fe-f3e5-446a-8064-d4f41963a438')\"\n",
              "            title=\"Suggest charts\"\n",
              "            style=\"display:none;\">\n",
              "\n",
              "<svg xmlns=\"http://www.w3.org/2000/svg\" height=\"24px\"viewBox=\"0 0 24 24\"\n",
              "     width=\"24px\">\n",
              "    <g>\n",
              "        <path d=\"M19 3H5c-1.1 0-2 .9-2 2v14c0 1.1.9 2 2 2h14c1.1 0 2-.9 2-2V5c0-1.1-.9-2-2-2zM9 17H7v-7h2v7zm4 0h-2V7h2v10zm4 0h-2v-4h2v4z\"/>\n",
              "    </g>\n",
              "</svg>\n",
              "  </button>\n",
              "\n",
              "<style>\n",
              "  .colab-df-quickchart {\n",
              "      --bg-color: #E8F0FE;\n",
              "      --fill-color: #1967D2;\n",
              "      --hover-bg-color: #E2EBFA;\n",
              "      --hover-fill-color: #174EA6;\n",
              "      --disabled-fill-color: #AAA;\n",
              "      --disabled-bg-color: #DDD;\n",
              "  }\n",
              "\n",
              "  [theme=dark] .colab-df-quickchart {\n",
              "      --bg-color: #3B4455;\n",
              "      --fill-color: #D2E3FC;\n",
              "      --hover-bg-color: #434B5C;\n",
              "      --hover-fill-color: #FFFFFF;\n",
              "      --disabled-bg-color: #3B4455;\n",
              "      --disabled-fill-color: #666;\n",
              "  }\n",
              "\n",
              "  .colab-df-quickchart {\n",
              "    background-color: var(--bg-color);\n",
              "    border: none;\n",
              "    border-radius: 50%;\n",
              "    cursor: pointer;\n",
              "    display: none;\n",
              "    fill: var(--fill-color);\n",
              "    height: 32px;\n",
              "    padding: 0;\n",
              "    width: 32px;\n",
              "  }\n",
              "\n",
              "  .colab-df-quickchart:hover {\n",
              "    background-color: var(--hover-bg-color);\n",
              "    box-shadow: 0 1px 2px rgba(60, 64, 67, 0.3), 0 1px 3px 1px rgba(60, 64, 67, 0.15);\n",
              "    fill: var(--button-hover-fill-color);\n",
              "  }\n",
              "\n",
              "  .colab-df-quickchart-complete:disabled,\n",
              "  .colab-df-quickchart-complete:disabled:hover {\n",
              "    background-color: var(--disabled-bg-color);\n",
              "    fill: var(--disabled-fill-color);\n",
              "    box-shadow: none;\n",
              "  }\n",
              "\n",
              "  .colab-df-spinner {\n",
              "    border: 2px solid var(--fill-color);\n",
              "    border-color: transparent;\n",
              "    border-bottom-color: var(--fill-color);\n",
              "    animation:\n",
              "      spin 1s steps(1) infinite;\n",
              "  }\n",
              "\n",
              "  @keyframes spin {\n",
              "    0% {\n",
              "      border-color: transparent;\n",
              "      border-bottom-color: var(--fill-color);\n",
              "      border-left-color: var(--fill-color);\n",
              "    }\n",
              "    20% {\n",
              "      border-color: transparent;\n",
              "      border-left-color: var(--fill-color);\n",
              "      border-top-color: var(--fill-color);\n",
              "    }\n",
              "    30% {\n",
              "      border-color: transparent;\n",
              "      border-left-color: var(--fill-color);\n",
              "      border-top-color: var(--fill-color);\n",
              "      border-right-color: var(--fill-color);\n",
              "    }\n",
              "    40% {\n",
              "      border-color: transparent;\n",
              "      border-right-color: var(--fill-color);\n",
              "      border-top-color: var(--fill-color);\n",
              "    }\n",
              "    60% {\n",
              "      border-color: transparent;\n",
              "      border-right-color: var(--fill-color);\n",
              "    }\n",
              "    80% {\n",
              "      border-color: transparent;\n",
              "      border-right-color: var(--fill-color);\n",
              "      border-bottom-color: var(--fill-color);\n",
              "    }\n",
              "    90% {\n",
              "      border-color: transparent;\n",
              "      border-bottom-color: var(--fill-color);\n",
              "    }\n",
              "  }\n",
              "</style>\n",
              "\n",
              "  <script>\n",
              "    async function quickchart(key) {\n",
              "      const quickchartButtonEl =\n",
              "        document.querySelector('#' + key + ' button');\n",
              "      quickchartButtonEl.disabled = true;  // To prevent multiple clicks.\n",
              "      quickchartButtonEl.classList.add('colab-df-spinner');\n",
              "      try {\n",
              "        const charts = await google.colab.kernel.invokeFunction(\n",
              "            'suggestCharts', [key], {});\n",
              "      } catch (error) {\n",
              "        console.error('Error during call to suggestCharts:', error);\n",
              "      }\n",
              "      quickchartButtonEl.classList.remove('colab-df-spinner');\n",
              "      quickchartButtonEl.classList.add('colab-df-quickchart-complete');\n",
              "    }\n",
              "    (() => {\n",
              "      let quickchartButtonEl =\n",
              "        document.querySelector('#df-321cd2fe-f3e5-446a-8064-d4f41963a438 button');\n",
              "      quickchartButtonEl.style.display =\n",
              "        google.colab.kernel.accessAllowed ? 'block' : 'none';\n",
              "    })();\n",
              "  </script>\n",
              "</div>\n",
              "\n",
              "    </div>\n",
              "  </div>\n"
            ],
            "application/vnd.google.colaboratory.intrinsic+json": {
              "type": "dataframe",
              "variable_name": "data",
              "summary": "{\n  \"name\": \"data\",\n  \"rows\": 5774,\n  \"fields\": [\n    {\n      \"column\": \"AMB_TEMP\",\n      \"properties\": {\n        \"dtype\": \"number\",\n        \"std\": 6.052241117953348,\n        \"min\": 7.2,\n        \"max\": 37.5,\n        \"num_unique_values\": 297,\n        \"samples\": [\n          21.2,\n          28.5,\n          16.6\n        ],\n        \"semantic_type\": \"\",\n        \"description\": \"\"\n      }\n    },\n    {\n      \"column\": \"CO\",\n      \"properties\": {\n        \"dtype\": \"number\",\n        \"std\": 0.16358588457969453,\n        \"min\": 0.04,\n        \"max\": 1.54,\n        \"num_unique_values\": 116,\n        \"samples\": [\n          0.9,\n          0.22,\n          0.47\n        ],\n        \"semantic_type\": \"\",\n        \"description\": \"\"\n      }\n    },\n    {\n      \"column\": \"NO\",\n      \"properties\": {\n        \"dtype\": \"number\",\n        \"std\": 3.246716838869694,\n        \"min\": 0.0,\n        \"max\": 63.3,\n        \"num_unique_values\": 189,\n        \"samples\": [\n          11.5,\n          25.3,\n          3.5\n        ],\n        \"semantic_type\": \"\",\n        \"description\": \"\"\n      }\n    },\n    {\n      \"column\": \"NO2\",\n      \"properties\": {\n        \"dtype\": \"number\",\n        \"std\": 7.260097999234004,\n        \"min\": 0.8,\n        \"max\": 60.0,\n        \"num_unique_values\": 384,\n        \"samples\": [\n          38.6,\n          31.5,\n          28.4\n        ],\n        \"semantic_type\": \"\",\n        \"description\": \"\"\n      }\n    },\n    {\n      \"column\": \"NOx\",\n      \"properties\": {\n        \"dtype\": \"number\",\n        \"std\": 9.270744129431838,\n        \"min\": 1.6,\n        \"max\": 94.1,\n        \"num_unique_values\": 460,\n        \"samples\": [\n          27.1,\n          12.7,\n          32.5\n        ],\n        \"semantic_type\": \"\",\n        \"description\": \"\"\n      }\n    },\n    {\n      \"column\": \"O3\",\n      \"properties\": {\n        \"dtype\": \"number\",\n        \"std\": 19.17493337876786,\n        \"min\": 1.6,\n        \"max\": 131.4,\n        \"num_unique_values\": 817,\n        \"samples\": [\n          11.6,\n          3.0,\n          44.2\n        ],\n        \"semantic_type\": \"\",\n        \"description\": \"\"\n      }\n    },\n    {\n      \"column\": \"PM10\",\n      \"properties\": {\n        \"dtype\": \"number\",\n        \"std\": 15,\n        \"min\": 0,\n        \"max\": 239,\n        \"num_unique_values\": 111,\n        \"samples\": [\n          84,\n          29,\n          22\n        ],\n        \"semantic_type\": \"\",\n        \"description\": \"\"\n      }\n    },\n    {\n      \"column\": \"WS_HR\",\n      \"properties\": {\n        \"dtype\": \"number\",\n        \"std\": 0.7671354933041836,\n        \"min\": 0.0,\n        \"max\": 6.1,\n        \"num_unique_values\": 55,\n        \"samples\": [\n          3.2,\n          2.1,\n          3.4\n        ],\n        \"semantic_type\": \"\",\n        \"description\": \"\"\n      }\n    },\n    {\n      \"column\": \"RAINFALL\",\n      \"properties\": {\n        \"dtype\": \"number\",\n        \"std\": 1.948620781988013,\n        \"min\": 0.0,\n        \"max\": 62.4,\n        \"num_unique_values\": 74,\n        \"samples\": [\n          0.8,\n          3.5,\n          5.0\n        ],\n        \"semantic_type\": \"\",\n        \"description\": \"\"\n      }\n    },\n    {\n      \"column\": \"RH\",\n      \"properties\": {\n        \"dtype\": \"number\",\n        \"std\": 11,\n        \"min\": 33,\n        \"max\": 96,\n        \"num_unique_values\": 64,\n        \"samples\": [\n          50,\n          37,\n          71\n        ],\n        \"semantic_type\": \"\",\n        \"description\": \"\"\n      }\n    },\n    {\n      \"column\": \"SO2\",\n      \"properties\": {\n        \"dtype\": \"number\",\n        \"std\": 1.1074727716771116,\n        \"min\": 0.0,\n        \"max\": 50.7,\n        \"num_unique_values\": 78,\n        \"samples\": [\n          2.7,\n          1.9,\n          0.7\n        ],\n        \"semantic_type\": \"\",\n        \"description\": \"\"\n      }\n    },\n    {\n      \"column\": \"WD_HR\",\n      \"properties\": {\n        \"dtype\": \"number\",\n        \"std\": 85,\n        \"min\": 0,\n        \"max\": 359,\n        \"num_unique_values\": 357,\n        \"samples\": [\n          335,\n          136,\n          31\n        ],\n        \"semantic_type\": \"\",\n        \"description\": \"\"\n      }\n    },\n    {\n      \"column\": \"WIND_DIREC\",\n      \"properties\": {\n        \"dtype\": \"number\",\n        \"std\": 87,\n        \"min\": 0,\n        \"max\": 359,\n        \"num_unique_values\": 358,\n        \"samples\": [\n          207,\n          50,\n          320\n        ],\n        \"semantic_type\": \"\",\n        \"description\": \"\"\n      }\n    },\n    {\n      \"column\": \"WIND_SPEED\",\n      \"properties\": {\n        \"dtype\": \"number\",\n        \"std\": 0.8645812881682992,\n        \"min\": 0.3,\n        \"max\": 6.5,\n        \"num_unique_values\": 57,\n        \"samples\": [\n          0.6,\n          2.4,\n          3.6\n        ],\n        \"semantic_type\": \"\",\n        \"description\": \"\"\n      }\n    },\n    {\n      \"column\": \"PM2.5\",\n      \"properties\": {\n        \"dtype\": \"number\",\n        \"std\": 8,\n        \"min\": 0,\n        \"max\": 80,\n        \"num_unique_values\": 68,\n        \"samples\": [\n          46,\n          16,\n          10\n        ],\n        \"semantic_type\": \"\",\n        \"description\": \"\"\n      }\n    }\n  ]\n}"
            }
          },
          "metadata": {},
          "execution_count": 414
        }
      ]
    },
    {
      "cell_type": "markdown",
      "source": [
        "### EDA: boxplot\n",
        "As a reference for filtering extreme data."
      ],
      "metadata": {
        "id": "x8C2gtrqhxFb"
      }
    },
    {
      "cell_type": "code",
      "source": [
        "# EDA: boxplot\n",
        "import matplotlib.pyplot as plt\n",
        "\n",
        "data.boxplot(column=list(data.columns), figsize=(8,6), rot = 45)\n",
        "plt.show()"
      ],
      "metadata": {
        "colab": {
          "base_uri": "https://localhost:8080/",
          "height": 583
        },
        "id": "ZWjokeHaMTqu",
        "outputId": "c0920f4c-8dd3-4a64-b7d7-a44502055e00"
      },
      "execution_count": 415,
      "outputs": [
        {
          "output_type": "display_data",
          "data": {
            "text/plain": [
              "<Figure size 800x600 with 1 Axes>"
            ],
            "image/png": "[encoded data removed]"
          },
          "metadata": {}
        }
      ]
    },
    {
      "cell_type": "markdown",
      "source": [
        "Some randomly selected features"
      ],
      "metadata": {
        "id": "KD-0Gr8Hh8-a"
      }
    },
    {
      "cell_type": "code",
      "source": [
        "# Choose your features to train.\n",
        "# Hint:\n",
        "# 1. You can select more than one feature.\n",
        "# 2. You should select \"good\" features.\n",
        "\n",
        "# TODO: Carefully justify which feature should be chosen.\n",
        "feat_names = list(data.keys())\n",
        "print(feat_names)\n",
        "selected_feat = ['CO', 'NO', 'NO2']\n",
        "feats = [feat_names.index(element) for element in selected_feat]\n",
        "print(feats)\n",
        "print(len(feats))"
      ],
      "metadata": {
        "id": "_Akqj5yYVGHA",
        "colab": {
          "base_uri": "https://localhost:8080/"
        },
        "outputId": "f99747b3-b05c-4af3-c3ee-5632f6e2b394"
      },
      "execution_count": 416,
      "outputs": [
        {
          "output_type": "stream",
          "name": "stdout",
          "text": [
            "['AMB_TEMP', 'CO', 'NO', 'NO2', 'NOx', 'O3', 'PM10', 'WS_HR', 'RAINFALL', 'RH', 'SO2', 'WD_HR', 'WIND_DIREC', 'WIND_SPEED', 'PM2.5']\n",
            "[1, 2, 3]\n",
            "3\n"
          ]
        }
      ]
    },
    {
      "cell_type": "code",
      "source": [
        "def training(data, feats, train_config, return_train_data = True):\n",
        "    # Training data preprocessing.\n",
        "    new_data = data.values\n",
        "    train_data = np.transpose(np.array(np.float64(new_data)))\n",
        "    train_x, train_y = parse2train(train_data, feats)\n",
        "    # Train your regression model\n",
        "    w, bias = minibatch(train_x, train_y, train_config)\n",
        "    if return_train_data:\n",
        "      return w, bias, train_x, train_y\n",
        "    else:\n",
        "      return w, bias"
      ],
      "metadata": {
        "id": "hpIQG--nFoYq"
      },
      "execution_count": 417,
      "outputs": []
    },
    {
      "cell_type": "code",
      "source": [
        "# training RMSE\n",
        "def RMSE(w, bias, x, y):\n",
        "  # print(w.shape, bias.shape, x.shape, y.shape)\n",
        "  N = int(x.shape[0])\n",
        "  result = 0\n",
        "  for i in range(N):\n",
        "    # Prediction of linear regression\n",
        "    prediction = (np.dot(np.reshape(w,-1), x[i]) + bias)[0]\n",
        "    error = prediction - y[i]\n",
        "    result += (error)**2\n",
        "    # if abs(error) > 100:\n",
        "    #   weird.append(i)\n",
        "  result = math.sqrt(result/N)\n",
        "  return result\n",
        "# print(f\"Selected Features: {selected_feat}\\nTrain RMSE = {RMSE(w, bias, train_x, train_y)}\")"
      ],
      "metadata": {
        "id": "wztZl3QAFCL1"
      },
      "execution_count": 418,
      "outputs": []
    },
    {
      "cell_type": "markdown",
      "source": [
        "## Feature Selection\n",
        "Using backward selection method,\n",
        " greedly removed the features that cause greatest reduction in Training RMSE, until RMSE doesn't reduce more.\n",
        "\n",
        "Note that since greedy policy does not ganruntee the optimal solution, and the batching involves randomness, the results may be not so consistent."
      ],
      "metadata": {
        "id": "g3Z0n4cbv_13"
      }
    },
    {
      "cell_type": "code",
      "source": [
        "def backward_selection(data, train_config):\n",
        "    ## Supported by gemini\n",
        "    feat_names = list(data.keys())\n",
        "    selected_features = list(range(len(feat_names)))\n",
        "    best_rmse = -1\n",
        "    current_rmse = -1\n",
        "    while len(selected_features) > 1:\n",
        "        # Try removing one feature at a time\n",
        "        for feature in selected_features:\n",
        "            # Remove Feature\n",
        "            temp_features = selected_features.copy()\n",
        "            temp_features.remove(feature)\n",
        "\n",
        "            # Train and evaluate with the temporary feature set\n",
        "            for times in range(3):\n",
        "              w, bias, train_x, train_y = training(data, temp_features, train_config)\n",
        "              if times == 0:\n",
        "                temp_rmse = RMSE(w, bias, train_x, train_y)\n",
        "              else:\n",
        "                temp_rmse = temp_rmse + RMSE(w, bias, train_x, train_y)\n",
        "            temp_rmse = temp_rmse / 3\n",
        "\n",
        "            # Update if improvement found\n",
        "            if ((best_rmse == -1) | (temp_rmse < best_rmse)):\n",
        "                best_rmse = temp_rmse\n",
        "                best_features = temp_features.copy()\n",
        "\n",
        "        # Check if there was an improvement\n",
        "        if ((current_rmse == -1) | (best_rmse < current_rmse)):\n",
        "            current_rmse = best_rmse\n",
        "            selected_features = best_features.copy()\n",
        "            print(f\"Removed feature, RMSE improved to: {current_rmse}, features: {selected_features}\")\n",
        "        else:\n",
        "            break  # No improvement, stop the process\n",
        "\n",
        "    return selected_features, best_rmse"
      ],
      "metadata": {
        "id": "7F_ET4byyLKc"
      },
      "execution_count": 419,
      "outputs": []
    },
    {
      "cell_type": "code",
      "source": [
        "# seed = 9487\n",
        "# np.random.seed(seed)\n",
        "# data = pd.read_csv(\"/content/train.csv\")\n",
        "# selected_features, best_rmse = backward_selection(data, train_config)\n",
        "# print(f\"Features: {list(feat_names[i] for i in selected_features)},\\n Train RMSE: {best_rmse}\")"
      ],
      "metadata": {
        "id": "1GCm4KKTyfsJ"
      },
      "execution_count": 420,
      "outputs": []
    },
    {
      "cell_type": "markdown",
      "source": [
        "After many trial and error, select PM2.5 alone seems to be the best strategy."
      ],
      "metadata": {
        "id": "GTGk6KAOlAMm"
      }
    },
    {
      "cell_type": "code",
      "source": [
        "seed = 9487\n",
        "np.random.seed(seed)\n",
        "selected_feat = ['PM2.5']\n",
        "selected_features = [feat_names.index(element) for element in selected_feat]\n",
        "print(f'Backward: {selected_features}')\n",
        "data = pd.read_csv(\"/content/train.csv\")\n",
        "rmse_bw = -1\n",
        "for i in range(100):\n",
        "  w_tmp, bias_tmp, train_x, train_y = training(data, selected_features, train_config)\n",
        "  if (i == 1): print(train_y.shape)\n",
        "  rmse_tmp = RMSE(w_tmp, bias_tmp, train_x, train_y)\n",
        "  if rmse_tmp<3.0: print(f'{i}_Backward_RMSE: {rmse_tmp}')\n",
        "  if ((rmse_bw == -1)|(rmse_bw > rmse_tmp)):\n",
        "    rmse_bw = rmse_tmp\n",
        "    w_backward = w_tmp\n",
        "    bias_backward = bias_tmp\n",
        "  else:\n",
        "    pass"
      ],
      "metadata": {
        "colab": {
          "base_uri": "https://localhost:8080/"
        },
        "id": "gLS16Hzl4A_F",
        "outputId": "6278d6de-4c5f-4049-9030-e077ba9f3749"
      },
      "execution_count": 421,
      "outputs": [
        {
          "output_type": "stream",
          "name": "stdout",
          "text": [
            "Backward: [14]\n",
            "(5212,)\n",
            "9_Backward_RMSE: 2.9538113324457185\n",
            "12_Backward_RMSE: 2.954174001981789\n",
            "13_Backward_RMSE: 2.986931389980606\n",
            "15_Backward_RMSE: 2.9644919336542377\n",
            "17_Backward_RMSE: 2.9656871459377263\n",
            "20_Backward_RMSE: 2.9635043984525105\n",
            "22_Backward_RMSE: 2.993716180868738\n",
            "24_Backward_RMSE: 2.9652225243488988\n",
            "27_Backward_RMSE: 2.9884188069620197\n",
            "30_Backward_RMSE: 2.952864462514466\n",
            "31_Backward_RMSE: 2.9831705310401224\n",
            "33_Backward_RMSE: 2.999470113783968\n",
            "41_Backward_RMSE: 2.958505949836189\n",
            "53_Backward_RMSE: 2.9655045487465563\n",
            "58_Backward_RMSE: 2.9757836113867877\n",
            "60_Backward_RMSE: 2.9657468435974255\n",
            "62_Backward_RMSE: 2.985192653373643\n",
            "63_Backward_RMSE: 2.966989797354968\n",
            "76_Backward_RMSE: 2.9781527407248496\n",
            "78_Backward_RMSE: 2.9751588559247644\n",
            "79_Backward_RMSE: 2.9908485168096126\n",
            "84_Backward_RMSE: 2.9905438105764603\n",
            "87_Backward_RMSE: 2.9585250913470964\n"
          ]
        }
      ]
    },
    {
      "cell_type": "markdown",
      "metadata": {
        "id": "019GwPMrbmrB"
      },
      "source": [
        "# **Testing:**\n"
      ]
    },
    {
      "cell_type": "code",
      "metadata": {
        "id": "5FjQNzOb6BeQ"
      },
      "source": [
        "def parse2test(data, feats):\n",
        "  x = []\n",
        "  for i in range(90):\n",
        "    x_tmp = data[feats,8*i: 8*i+8]\n",
        "    x.append(x_tmp.reshape(-1,))\n",
        "\n",
        "  # x.shape: (n, 15, 8)\n",
        "  x = np.array(x)\n",
        "  return x"
      ],
      "execution_count": 422,
      "outputs": []
    },
    {
      "cell_type": "code",
      "source": [
        "data = pd.read_csv('test.csv')\n",
        "# print(data)\n",
        "new_data = data.values\n",
        "\n",
        "test_data = np.transpose(np.array(np.float64(new_data)))\n",
        "test_x = parse2test(test_data, selected_features)"
      ],
      "metadata": {
        "id": "z40o9QbAYbR6"
      },
      "execution_count": 423,
      "outputs": []
    },
    {
      "cell_type": "markdown",
      "metadata": {
        "id": "fWrfEwaEdO6J"
      },
      "source": [
        "# **Write result as .csv**\n",
        "\n",
        "---\n",
        "\n"
      ]
    },
    {
      "cell_type": "code",
      "metadata": {
        "id": "TqEQ1fZ9-WMO",
        "colab": {
          "base_uri": "https://localhost:8080/"
        },
        "outputId": "21d1e91f-2553-463b-bc47-8a85897984d1"
      },
      "source": [
        "with open('my_sol_backward.csv', 'w', newline='') as csvf:\n",
        "    writer = csv.writer(csvf)\n",
        "    writer.writerow(['Id','Predicted'])\n",
        "    print(test_x.shape)\n",
        "    for i in range(int(test_x.shape[0])):\n",
        "      # Prediction of linear regression\n",
        "      prediction = (np.dot(np.reshape(w_backward,-1),test_x[i]) + bias_backward)[0]\n",
        "      writer.writerow([i, prediction])"
      ],
      "execution_count": 424,
      "outputs": [
        {
          "output_type": "stream",
          "name": "stdout",
          "text": [
            "(90, 8)\n"
          ]
        }
      ]
    },
    {
      "cell_type": "markdown",
      "source": [
        "# Linear Regression with 2nd order polynomial"
      ],
      "metadata": {
        "id": "wOI7rux7ZYZO"
      }
    },
    {
      "cell_type": "code",
      "source": [
        "selected_feat = ['NO']\n",
        "feats = [feat_names.index(element) for element in selected_feat]\n",
        "print(len(feats))\n",
        "# Training data preprocessing.\n",
        "data = pd.read_csv(\"/content/train.csv\")\n",
        "data = data.values\n",
        "train_data = np.transpose(np.array(np.float64(data)))\n",
        "train_x, train_y = parse2train(train_data, feats)\n",
        "train_x2 = np.square(train_x)\n",
        "print(train_x.shape, train_x2.shape)"
      ],
      "metadata": {
        "colab": {
          "base_uri": "https://localhost:8080/"
        },
        "id": "qQoE9EETZqjh",
        "outputId": "29d84283-8dae-43f5-bea4-cb1d019c50ee"
      },
      "execution_count": 425,
      "outputs": [
        {
          "output_type": "stream",
          "name": "stdout",
          "text": [
            "1\n",
            "(5129, 8) (5129, 8)\n"
          ]
        }
      ]
    },
    {
      "cell_type": "code",
      "source": [
        "train_x2.shape"
      ],
      "metadata": {
        "colab": {
          "base_uri": "https://localhost:8080/"
        },
        "id": "DvdqLHkqtRL1",
        "outputId": "60520e1f-f644-425b-8a07-78d62a8ade39"
      },
      "execution_count": 426,
      "outputs": [
        {
          "output_type": "execute_result",
          "data": {
            "text/plain": [
              "(5129, 8)"
            ]
          },
          "metadata": {},
          "execution_count": 426
        }
      ]
    },
    {
      "cell_type": "code",
      "source": [
        "## Training 2nd order polynomial\n",
        "w, w2, bias = minibatch_2(train_x, train_y, train_config)\n",
        "print(w.shape, w2.shape, bias.shape)\n",
        "print(f'Parameter estimates of 2nd order polynomial with parameter `NO` only:')\n",
        "print(f'1st order weights:\\n{w.reshape(1,-1)},\\n2nd order weights:\\n{w2.reshape(1,-1)}')\n",
        "print(f'Bias: {bias}')"
      ],
      "metadata": {
        "colab": {
          "base_uri": "https://localhost:8080/"
        },
        "id": "PR4L3Jo_YpZR",
        "outputId": "014340c4-85a5-4e3a-bd60-079ecf802753"
      },
      "execution_count": 427,
      "outputs": [
        {
          "output_type": "stream",
          "name": "stdout",
          "text": [
            "(8, 1) (8, 1) (1,)\n",
            "Parameter estimates of 2nd order polynomial with parameter `NO` only:\n",
            "1st order weights:\n",
            "[[0.46530873 0.20428631 0.22506219 0.24768373 0.34223948 0.09673192\n",
            "  0.23798201 0.51302962]],\n",
            "2nd order weights:\n",
            "[[ 0.02155248  0.01761945  0.02655412  0.00644438 -0.01976931  0.03580375\n",
            "  -0.00605293  0.02644598]]\n",
            "Bias: [3.69722655]\n"
          ]
        }
      ]
    },
    {
      "cell_type": "code",
      "source": [
        "train_y.shape"
      ],
      "metadata": {
        "colab": {
          "base_uri": "https://localhost:8080/"
        },
        "id": "yMgJgGomZpK1",
        "outputId": "2c1da2b3-2096-4672-9d31-89984e69237d"
      },
      "execution_count": 428,
      "outputs": [
        {
          "output_type": "execute_result",
          "data": {
            "text/plain": [
              "(5129,)"
            ]
          },
          "metadata": {},
          "execution_count": 428
        }
      ]
    },
    {
      "cell_type": "code",
      "source": [
        "# RMSE training of 2nd_poly\n",
        "RMSE = 0\n",
        "train_N = int(train_x.shape[0])\n",
        "# weird = []\n",
        "for i in range(train_N):\n",
        "  # Prediction of linear regression\n",
        "  prediction = (np.dot(np.reshape(w,-1), train_x[i])+\n",
        "          np.dot(np.reshape(w2,-1), train_x2[i])+\n",
        "                 bias)[0]\n",
        "  error = prediction - train_y[i]\n",
        "  RMSE += (error)**2\n",
        "  # if abs(error) > 100:\n",
        "  #   weird.append(i)\n",
        "RMSE = math.sqrt(RMSE/train_N)\n",
        "print(f'Train RMSE = {RMSE}')"
      ],
      "metadata": {
        "colab": {
          "base_uri": "https://localhost:8080/"
        },
        "id": "PNftMrM_g8nV",
        "outputId": "21c532ee-dbde-4b0a-92b8-588e2c453174"
      },
      "execution_count": 429,
      "outputs": [
        {
          "output_type": "stream",
          "name": "stdout",
          "text": [
            "Train RMSE = 6.35963439423078\n"
          ]
        }
      ]
    },
    {
      "cell_type": "markdown",
      "source": [
        "## Testing and Results for 2nd ploynminal"
      ],
      "metadata": {
        "id": "h7JbVKC4hVeZ"
      }
    },
    {
      "cell_type": "code",
      "source": [
        "def parse2test_2(data, feats):\n",
        "  x = []\n",
        "  x2 = []\n",
        "  for i in range(90):\n",
        "    x_tmp = data[feats,8*i: 8*i+8]\n",
        "    x2_tmp = np.square(x_tmp)\n",
        "    x.append(x_tmp.reshape(-1,))\n",
        "    x2.append(x2_tmp.reshape(-1,))\n",
        "\n",
        "  # x.shape: (n, 15, 8)\n",
        "  x = np.array(x)\n",
        "  x2 = np.array(x2)\n",
        "  return x, x2"
      ],
      "metadata": {
        "id": "p79KGkY6dz7U"
      },
      "execution_count": 430,
      "outputs": []
    },
    {
      "cell_type": "code",
      "source": [
        "data = pd.read_csv('test.csv')\n",
        "# print(data)\n",
        "data = data.values\n",
        "test_data = np.transpose(np.array(np.float64(data)))\n",
        "test_x, test_x2 = parse2test_2(test_data, feats)"
      ],
      "metadata": {
        "id": "FzNr48PAd-7Q"
      },
      "execution_count": 431,
      "outputs": []
    },
    {
      "cell_type": "code",
      "source": [
        "with open('my_sol_2.csv', 'w', newline='') as csvf:\n",
        "    writer = csv.writer(csvf)\n",
        "    writer.writerow(['Id','Predicted'])\n",
        "    print(test_x.shape, test_x2.shape)\n",
        "    for i in range(int(test_x.shape[0])):\n",
        "      # Prediction of linear regression\n",
        "      prediction = (np.dot(np.reshape(w,-1),test_x[i])+\n",
        "                    np.dot(np.reshape(w2,-1),test_x2[i])+\n",
        "                    bias)[0]\n",
        "      writer.writerow([i, prediction])"
      ],
      "metadata": {
        "colab": {
          "base_uri": "https://localhost:8080/"
        },
        "id": "jT9NbKb9eL5X",
        "outputId": "76fdbf7d-421d-478b-f12b-653c8c2f6a82"
      },
      "execution_count": 432,
      "outputs": [
        {
          "output_type": "stream",
          "name": "stdout",
          "text": [
            "(90, 8) (90, 8)\n"
          ]
        }
      ]
    }
  ]
}