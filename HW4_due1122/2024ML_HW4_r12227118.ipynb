{
  "cells": [
    {
      "cell_type": "markdown",
      "source": [
        "# ML HW4 sample code\n",
        "TODO:\n",
        " - Handler missing values\n",
        "  - ref: https://www.geeksforgeeks.org/ml-handling-missing-values/\n",
        " - Surrogate loss\n",
        "  - ref: https://ar5iv.labs.arxiv.org/html/2203.15046\n",
        " - Calculate AUC\n",
        " - Design the model and tune hyperparameters\n",
        "\n",
        "Report:\n",
        " - Ablation study\n",
        " - Saliency map"
      ],
      "metadata": {
        "id": "ULL43vyh5SvM"
      }
    },
    {
      "cell_type": "code",
      "execution_count": null,
      "metadata": {
        "colab": {
          "base_uri": "https://localhost:8080/"
        },
        "id": "TQZh-MQpgast",
        "outputId": "f438f56d-c1e1-477c-93ea-ff5e8f2374dd"
      },
      "outputs": [
        {
          "output_type": "stream",
          "name": "stdout",
          "text": [
            "Downloading...\n",
            "From: https://drive.google.com/uc?id=1L6P8E3nPDGivYcLeTjjCkHrEtBu-aDly\n",
            "To: /content/HW4.zip\n",
            "\r  0% 0.00/5.73M [00:00<?, ?B/s]\r 82% 4.72M/5.73M [00:00<00:00, 34.3MB/s]\r100% 5.73M/5.73M [00:00<00:00, 40.1MB/s]\n",
            "replace data/test.csv? [y]es, [n]o, [A]ll, [N]one, [r]ename: N\n"
          ]
        }
      ],
      "source": [
        "!gdown 1L6P8E3nPDGivYcLeTjjCkHrEtBu-aDly\n",
        "!unzip -q 'HW4.zip'"
      ]
    },
    {
      "cell_type": "code",
      "execution_count": null,
      "metadata": {
        "id": "av5g62sigasx"
      },
      "outputs": [],
      "source": [
        "import numpy as np\n",
        "import csv\n",
        "import pandas as pd\n",
        "import torch\n",
        "import torch.nn as nn\n",
        "import matplotlib.pyplot as plt\n",
        "\n",
        "from tqdm import tqdm\n",
        "from argparse import Namespace"
      ]
    },
    {
      "cell_type": "code",
      "execution_count": null,
      "metadata": {
        "id": "tmdHgOtQgasy"
      },
      "outputs": [],
      "source": [
        "config = Namespace(\n",
        "    num_epochs=50,\n",
        "    lr=1e-7,\n",
        "    weight_decay=0, # default=0, L2 Regularization\n",
        "    batch_size=128,\n",
        "    device=torch.device('cuda' if torch.cuda.is_available() else 'cpu'),\n",
        "    ckpt_path='model.ckpt'\n",
        ")"
      ]
    },
    {
      "cell_type": "markdown",
      "metadata": {
        "id": "WGm3oZCkgasz"
      },
      "source": [
        "## Data Processing"
      ]
    },
    {
      "cell_type": "code",
      "source": [
        "data_dir = './data'\n",
        "\n",
        "def handle_missing_values(df):\n",
        "    # TODO: handle missing values\n",
        "    # Determine the data type for each column and pad missing values accordingly\n",
        "    for column in df.columns:\n",
        "        if pd.api.types.is_integer_dtype(df[column]): # categorical\n",
        "            df[column] = df[column].fillna(-1)#.astype('Int64')  # pad -1 for missing values\n",
        "            # add 1 to all values to ensure all categorical values >= 0\n",
        "            df[column] = df[column] + 1\n",
        "        elif pd.api.types.is_float_dtype(df[column]): # float\n",
        "            df[column] = df[column].fillna(-100) # pad -100 for missing values\n",
        "            # # Calculate the mean of the column, ignoring NaN values\n",
        "            # column_mean = df[column].mean(skipna=True)\n",
        "            # # Pad missing values with the calculated mean\n",
        "            # df[column] = df[column].fillna(column_mean)\n",
        "\n",
        "# load data using pandas\n",
        "def load_csv(file_name, labelled=True, categories=None):\n",
        "    # no header in the csv file\n",
        "    df = pd.read_csv(file_name, header=None)\n",
        "\n",
        "    # if labelled, remove the rows where the label (column 0) is missing\n",
        "    if labelled:\n",
        "        lab = df[0].values\n",
        "        df.drop(columns=0, inplace=True)\n",
        "\n",
        "    # convert string features into integers\n",
        "    if categories is not None:\n",
        "        i = 0\n",
        "        for col in df.columns:\n",
        "            if df[col].dtype == 'object' or pd.api.types.is_integer_dtype(df[col]):\n",
        "                df[col] = pd.Categorical(df[col], categories=categories[i])\n",
        "                df[col] = df[col].cat.codes\n",
        "                i += 1\n",
        "    else:\n",
        "        categories = []\n",
        "        for col in df.columns:\n",
        "            if df[col].dtype == 'object' or pd.api.types.is_integer_dtype(df[col]):\n",
        "                categories.append(df[col].dropna().unique())\n",
        "                df[col] = pd.Categorical(df[col], categories=categories[-1])\n",
        "                df[col] = df[col].cat.codes\n",
        "\n",
        "    # handle missing values\n",
        "    handle_missing_values(df)\n",
        "\n",
        "    # convert from pd to 2 numpy array for categorical and float features\n",
        "    cat = df[[x for x in df.columns if pd.api.types.is_integer_dtype(df[x])]].values\n",
        "    flt = df[[x for x in df.columns if pd.api.types.is_float_dtype(df[x])]].values\n",
        "    # list of numbers of unique values for each categorical feature\n",
        "    num_cat = (cat.max(axis=0) + 1).tolist()\n",
        "    if labelled:\n",
        "        return lab, cat, flt, num_cat, categories\n",
        "    else:\n",
        "        return cat, flt, num_cat"
      ],
      "metadata": {
        "id": "2ziZxf4sU4n-"
      },
      "execution_count": null,
      "outputs": []
    },
    {
      "cell_type": "code",
      "execution_count": null,
      "metadata": {
        "id": "Wx9QjuKNgas2"
      },
      "outputs": [],
      "source": [
        "# dataset\n",
        "class PPD(torch.utils.data.Dataset):\n",
        "    def __init__(self, cat_data, num_data, label=None):\n",
        "        self.cat_data = cat_data\n",
        "        self.num_data = num_data\n",
        "        self.label = label\n",
        "\n",
        "    def t(self, x):\n",
        "        return torch.from_numpy(x)\n",
        "\n",
        "    def __getitem__(self, idx):\n",
        "        if self.label is not None:\n",
        "            return self.t(self.cat_data[idx]).long(), self.t(self.num_data[idx]).float(), torch.tensor(self.label[idx]).long()\n",
        "        else:\n",
        "            return self.t(self.cat_data[idx]).long(), self.t(self.num_data[idx]).float()\n",
        "\n",
        "    def __len__(self):\n",
        "        return len(self.cat_data)"
      ]
    },
    {
      "cell_type": "code",
      "source": [
        "train_label, train_cat_data, train_num_data, num_cat, categories = load_csv(data_dir + '/train.csv', labelled=True)\n",
        "train_dataset, valid_dataset = torch.utils.data.random_split(PPD(train_cat_data, train_num_data, label=train_label), [0.8, 0.2])\n",
        "\n",
        "train_loader = torch.utils.data.DataLoader(train_dataset, batch_size=config.batch_size, shuffle=True)\n",
        "valid_loader = torch.utils.data.DataLoader(valid_dataset, batch_size=config.batch_size, shuffle=False)\n",
        "\n",
        "\n",
        "# from imblearn.combine import SMOTEENN\n",
        "# # Combine SMOTE and EditedNearestNeighbours on Training_data\n",
        "# smote_enn = SMOTEENN(random_state=42)\n",
        "\n",
        "# # Resample the training data\n",
        "# train_cat_data_resampled, train_label_resampled = smote_enn.fit_resample(train_cat_data, train_label)\n",
        "\n",
        "# # Create a new training dataset with the resampled data\n",
        "# train_dataset_resampled = PPD(train_cat_data_resampled, train_num_data[:len(train_cat_data_resampled)], label=train_label_resampled)\n",
        "\n",
        "# # Create a new data loader for the resampled training data\n",
        "# train_loader = torch.utils.data.DataLoader(train_dataset_resampled, batch_size=config.batch_size, shuffle=True)"
      ],
      "metadata": {
        "id": "C1_j4kKqRRJg"
      },
      "execution_count": null,
      "outputs": []
    },
    {
      "cell_type": "markdown",
      "metadata": {
        "id": "59QPv4gegas3"
      },
      "source": [
        "## Model"
      ]
    },
    {
      "cell_type": "code",
      "execution_count": null,
      "metadata": {
        "id": "00--yOtigas4"
      },
      "outputs": [],
      "source": [
        "class simple_nn(nn.Module):\n",
        "    def __init__(self, num_cat, emb_size=64):\n",
        "        super().__init__()\n",
        "        self.num_cat = num_cat\n",
        "        self.emb = nn.ModuleList([nn.Embedding(n, emb_size) for n in num_cat])\n",
        "        number_of_emb = emb_size*len(num_cat) + 103-len(num_cat)\n",
        "\n",
        "        self.fc = nn.Sequential(\n",
        "            nn.Linear(number_of_emb, 4096),\n",
        "            nn.BatchNorm1d(4096),\n",
        "            nn.ReLU(),\n",
        "            nn.Linear(4096, 1024),\n",
        "            nn.BatchNorm1d(1024),\n",
        "            # nn.Dropout(0.3),\n",
        "            nn.ReLU(),\n",
        "            nn.Linear(1024, 128),\n",
        "            nn.BatchNorm1d(128),\n",
        "            nn.ReLU(),\n",
        "            nn.Linear(128, 1),\n",
        "            nn.Sigmoid()\n",
        "        )\n",
        "\n",
        "    def forward(self, x_cat, x_num):\n",
        "        x_cat_emb = []\n",
        "        for i in range(x_cat.size(1)):\n",
        "            # print(x_cat[:, i])\n",
        "            x_cat_emb.append(self.emb[i](x_cat[:, i]))\n",
        "        x_cat_emb = torch.cat(x_cat_emb, 1)\n",
        "        x = torch.cat([x_cat_emb, x_num], 1)\n",
        "        x = self.fc(x)\n",
        "        return x.squeeze()"
      ]
    },
    {
      "cell_type": "markdown",
      "metadata": {
        "id": "48HO3Sh6gas5"
      },
      "source": [
        "## functions"
      ]
    },
    {
      "cell_type": "code",
      "source": [
        "# TODO: Loss function\n",
        "# implement your loss function (surrrogate loss)\n",
        "def loss_function(y_pred, y_true):\n",
        "    # return nn.BCELoss()(y_pred, y_true)\n",
        "\n",
        "    positive_mask = y_true == 1\n",
        "    negative_mask = y_true == 0\n",
        "\n",
        "    positive_predictions = y_pred[positive_mask]\n",
        "    negative_predictions = y_pred[negative_mask]\n",
        "\n",
        "    # Broadcasting to avoid nested loops\n",
        "    diff = positive_predictions.unsqueeze(1) - negative_predictions  # Shape: (num_pos, num_neg)\n",
        "    loss = torch.sum((torch.clamp(1 - diff, min=0)**2))  # maximum: squared hinge loss\n",
        "    # loss = torch.logsumexp(-diff, dim=1).sum() # exponential\n",
        "    # Normalize by number of pairs\n",
        "    # num_pairs = positive_predictions.size(0) * negative_predictions.size(0)\n",
        "    # loss = loss / num_pairs\n",
        "    return loss"
      ],
      "metadata": {
        "id": "uPwvWLZ5dfqk"
      },
      "execution_count": null,
      "outputs": []
    },
    {
      "cell_type": "code",
      "source": [
        "from sklearn.metrics import roc_auc_score\n",
        "\n",
        "def auc(y_pred, y_true):\n",
        "    y_pred, y_true = y_pred.cpu().numpy(), y_true.cpu().numpy()\n",
        "    return roc_auc_score(y_true, y_pred)"
      ],
      "metadata": {
        "id": "tiVrZqYbRKsZ"
      },
      "execution_count": null,
      "outputs": []
    },
    {
      "cell_type": "code",
      "execution_count": null,
      "metadata": {
        "id": "n_qIWQ7rgas6"
      },
      "outputs": [],
      "source": [
        "def train(model, train_loader, valid_loader, config):\n",
        "    model.to(config.device)\n",
        "\n",
        "    optimizer = torch.optim.Adam(model.parameters(), lr=config.lr, weight_decay=config.weight_decay)\n",
        "    scheduler = torch.optim.lr_scheduler.CosineAnnealingLR(optimizer, config.num_epochs)\n",
        "\n",
        "    best_auc = 0\n",
        "    for epoch in range(config.num_epochs):\n",
        "        model.train()\n",
        "        all_y_true, all_y_pred, all_loss = [], [], []\n",
        "        for x_cat, x_num, y in tqdm(train_loader):\n",
        "            x_cat, x_num, y = x_cat.to(config.device), x_num.to(config.device), y.to(config.device).float()\n",
        "            y_pred = model(x_cat, x_num)\n",
        "\n",
        "            loss = loss_function(y_pred, y)\n",
        "            optimizer.zero_grad()\n",
        "            loss.backward()\n",
        "            optimizer.step()\n",
        "\n",
        "            all_y_true.append(y)\n",
        "            all_y_pred.append(y_pred)\n",
        "            all_loss.append(loss)\n",
        "        all_y_true = torch.cat(all_y_true)\n",
        "        all_y_pred = torch.cat(all_y_pred)\n",
        "        auc_score = auc(all_y_pred.detach(), all_y_true)\n",
        "        loss = torch.mean(torch.stack(all_loss))\n",
        "        print(f'Epoch {epoch+1}/{config.num_epochs}, train loss: {loss.item()}, train AUC: {auc_score}')\n",
        "\n",
        "\n",
        "        model.eval()\n",
        "        with torch.no_grad():\n",
        "            y_true = []\n",
        "            y_pred = []\n",
        "            for x_cat, x_num, y in valid_loader:\n",
        "                x_cat, x_num, y = x_cat.to(config.device), x_num.to(config.device), y.to(config.device).float()\n",
        "                y_true.append(y)\n",
        "                y_pred.append(model(x_cat, x_num))\n",
        "            y_true = torch.cat(y_true)\n",
        "            y_pred = torch.cat(y_pred)\n",
        "            auc_score = auc(y_pred, y_true)\n",
        "            loss = loss_function(y_pred, y_true)\n",
        "            print(f'Epoch {epoch+1}/{config.num_epochs}, valid loss: {loss.item()}, valid AUC: {auc_score}')\n",
        "\n",
        "\n",
        "            if auc_score > best_auc:\n",
        "                best_auc = auc_score\n",
        "                torch.save(model.state_dict(), config.ckpt_path)\n",
        "                print(f'==== best valid AUC: {auc_score} ====')\n",
        "        scheduler.step()\n",
        "    model.load_state_dict(torch.load(config.ckpt_path))"
      ]
    },
    {
      "cell_type": "markdown",
      "source": [
        "# xgBoosting"
      ],
      "metadata": {
        "id": "dYvAzzCnQ7Xr"
      }
    },
    {
      "cell_type": "code",
      "source": [
        "import xgboost as xgb\n",
        "\n",
        "# 1. Prepare training data for XGBoost\n",
        "X_train = np.concatenate((train_cat_data, train_num_data), axis=1)\n",
        "y_train = train_label\n",
        "\n",
        "# 2. Prepare validation data for XGBoost\n",
        "X_val = []\n",
        "y_val = []\n",
        "for x_cat, x_num, y in valid_dataset:  # Iterate through valid_dataset\n",
        "    X_val.append(np.concatenate((x_cat.cpu().numpy(), x_num.cpu().numpy())))  # Combine features\n",
        "    y_val.append(y.item())  # Extract label\n",
        "\n",
        "X_val = np.array(X_val)\n",
        "y_val = np.array(y_val)\n",
        "\n",
        "# 3. Create DMatrix for XGBoost\n",
        "dtrain = xgb.DMatrix(X_train, label=y_train)\n",
        "dval = xgb.DMatrix(X_val, label=y_val)\n",
        "\n",
        "# Create DMatrix\n",
        "dtrain = xgb.DMatrix(X_train, label=y_train)\n",
        "dval = xgb.DMatrix(X_val, label=y_val)\n",
        "\n",
        "# Set Hyperparameters\n",
        "params = {\n",
        "    'objective': 'binary:logistic',\n",
        "    # 'objective': 'binary:hinge',\n",
        "    'eval_metric': 'auc',\n",
        "    'eta': 0.1,\n",
        "    'max_depth': 3,\n",
        "    'subsample': 0.8,\n",
        "    'colsample_bytree': 0.8,\n",
        "}\n",
        "\n",
        "# Train the Model\n",
        "num_rounds = 100\n",
        "xgb_model = xgb.train(params, dtrain, num_rounds, evals=[(dval, 'eval')], early_stopping_rounds=10)\n",
        "\n",
        "# Prediction and Evaluation\n",
        "y_pred_prob = xgb_model.predict(dval)\n",
        "auc_score = roc_auc_score(y_val, y_pred_prob)\n",
        "print(f\"Validation AUC: {auc_score}\")"
      ],
      "metadata": {
        "colab": {
          "base_uri": "https://localhost:8080/"
        },
        "id": "qrUrL6_RXfek",
        "outputId": "674954c5-c9af-4076-8f42-94e913a5d38b"
      },
      "execution_count": null,
      "outputs": [
        {
          "output_type": "stream",
          "name": "stdout",
          "text": [
            "[0]\teval-auc:0.62027\n",
            "[1]\teval-auc:0.62527\n",
            "[2]\teval-auc:0.63195\n",
            "[3]\teval-auc:0.64147\n",
            "[4]\teval-auc:0.64486\n",
            "[5]\teval-auc:0.64924\n",
            "[6]\teval-auc:0.65258\n",
            "[7]\teval-auc:0.65710\n",
            "[8]\teval-auc:0.65982\n",
            "[9]\teval-auc:0.66659\n",
            "[10]\teval-auc:0.66710\n",
            "[11]\teval-auc:0.67248\n",
            "[12]\teval-auc:0.67411\n",
            "[13]\teval-auc:0.67690\n",
            "[14]\teval-auc:0.67926\n",
            "[15]\teval-auc:0.68057\n",
            "[16]\teval-auc:0.68050\n",
            "[17]\teval-auc:0.68102\n",
            "[18]\teval-auc:0.68435\n",
            "[19]\teval-auc:0.68659\n",
            "[20]\teval-auc:0.68880\n",
            "[21]\teval-auc:0.69136\n",
            "[22]\teval-auc:0.69296\n",
            "[23]\teval-auc:0.69407\n",
            "[24]\teval-auc:0.69627\n",
            "[25]\teval-auc:0.69895\n",
            "[26]\teval-auc:0.69962\n",
            "[27]\teval-auc:0.70305\n",
            "[28]\teval-auc:0.70530\n",
            "[29]\teval-auc:0.70640\n",
            "[30]\teval-auc:0.70825\n",
            "[31]\teval-auc:0.70835\n",
            "[32]\teval-auc:0.71238\n",
            "[33]\teval-auc:0.71387\n",
            "[34]\teval-auc:0.71596\n",
            "[35]\teval-auc:0.71734\n",
            "[36]\teval-auc:0.71805\n",
            "[37]\teval-auc:0.71975\n",
            "[38]\teval-auc:0.72055\n",
            "[39]\teval-auc:0.72072\n",
            "[40]\teval-auc:0.72230\n",
            "[41]\teval-auc:0.72299\n",
            "[42]\teval-auc:0.72475\n",
            "[43]\teval-auc:0.72620\n",
            "[44]\teval-auc:0.72662\n",
            "[45]\teval-auc:0.72736\n",
            "[46]\teval-auc:0.72746\n",
            "[47]\teval-auc:0.72862\n",
            "[48]\teval-auc:0.73014\n",
            "[49]\teval-auc:0.73061\n",
            "[50]\teval-auc:0.73261\n",
            "[51]\teval-auc:0.73372\n",
            "[52]\teval-auc:0.73524\n",
            "[53]\teval-auc:0.73601\n",
            "[54]\teval-auc:0.73678\n",
            "[55]\teval-auc:0.73739\n",
            "[56]\teval-auc:0.73765\n",
            "[57]\teval-auc:0.73784\n",
            "[58]\teval-auc:0.73984\n",
            "[59]\teval-auc:0.74107\n",
            "[60]\teval-auc:0.74212\n",
            "[61]\teval-auc:0.74327\n",
            "[62]\teval-auc:0.74399\n",
            "[63]\teval-auc:0.74418\n",
            "[64]\teval-auc:0.74600\n",
            "[65]\teval-auc:0.74629\n",
            "[66]\teval-auc:0.74711\n",
            "[67]\teval-auc:0.74744\n",
            "[68]\teval-auc:0.74809\n",
            "[69]\teval-auc:0.74818\n",
            "[70]\teval-auc:0.74939\n",
            "[71]\teval-auc:0.74961\n",
            "[72]\teval-auc:0.74986\n",
            "[73]\teval-auc:0.75157\n",
            "[74]\teval-auc:0.75182\n",
            "[75]\teval-auc:0.75208\n",
            "[76]\teval-auc:0.75280\n",
            "[77]\teval-auc:0.75383\n",
            "[78]\teval-auc:0.75447\n",
            "[79]\teval-auc:0.75595\n",
            "[80]\teval-auc:0.75691\n",
            "[81]\teval-auc:0.75836\n",
            "[82]\teval-auc:0.75899\n",
            "[83]\teval-auc:0.76031\n",
            "[84]\teval-auc:0.76067\n",
            "[85]\teval-auc:0.76169\n",
            "[86]\teval-auc:0.76222\n",
            "[87]\teval-auc:0.76246\n",
            "[88]\teval-auc:0.76290\n",
            "[89]\teval-auc:0.76347\n",
            "[90]\teval-auc:0.76475\n",
            "[91]\teval-auc:0.76526\n",
            "[92]\teval-auc:0.76603\n",
            "[93]\teval-auc:0.76671\n",
            "[94]\teval-auc:0.76705\n",
            "[95]\teval-auc:0.76789\n",
            "[96]\teval-auc:0.76860\n",
            "[97]\teval-auc:0.77028\n",
            "[98]\teval-auc:0.77157\n",
            "[99]\teval-auc:0.77269\n",
            "Validation AUC: 0.7726936621608225\n"
          ]
        }
      ]
    },
    {
      "cell_type": "markdown",
      "source": [
        "## Train"
      ],
      "metadata": {
        "id": "72m9T_FAQw2D"
      }
    },
    {
      "cell_type": "code",
      "execution_count": null,
      "metadata": {
        "id": "UbiIvWkagas7",
        "colab": {
          "base_uri": "https://localhost:8080/"
        },
        "outputId": "95942e94-f5bc-4356-fdc3-5fadecc07db6"
      },
      "outputs": [
        {
          "output_type": "stream",
          "name": "stderr",
          "text": [
            "100%|██████████| 107/107 [00:01<00:00, 71.83it/s]\n"
          ]
        },
        {
          "output_type": "stream",
          "name": "stdout",
          "text": [
            "Epoch 1/50, train loss: 2333.829345703125, train AUC: 0.5070036672412292\n",
            "Epoch 1/50, valid loss: 1575088.875, valid AUC: 0.5322164598550055\n",
            "==== best valid AUC: 0.5322164598550055 ====\n"
          ]
        },
        {
          "output_type": "stream",
          "name": "stderr",
          "text": [
            "100%|██████████| 107/107 [00:01<00:00, 75.19it/s]\n"
          ]
        },
        {
          "output_type": "stream",
          "name": "stdout",
          "text": [
            "Epoch 2/50, train loss: 2326.078857421875, train AUC: 0.5142802843316696\n",
            "Epoch 2/50, valid loss: 1573527.25, valid AUC: 0.53086578006336\n"
          ]
        },
        {
          "output_type": "stream",
          "name": "stderr",
          "text": [
            "100%|██████████| 107/107 [00:01<00:00, 75.52it/s]\n"
          ]
        },
        {
          "output_type": "stream",
          "name": "stdout",
          "text": [
            "Epoch 3/50, train loss: 2315.127685546875, train AUC: 0.5188725055395642\n",
            "Epoch 3/50, valid loss: 1571057.0, valid AUC: 0.537903333255454\n",
            "==== best valid AUC: 0.537903333255454 ====\n"
          ]
        },
        {
          "output_type": "stream",
          "name": "stderr",
          "text": [
            "100%|██████████| 107/107 [00:01<00:00, 74.14it/s]\n"
          ]
        },
        {
          "output_type": "stream",
          "name": "stdout",
          "text": [
            "Epoch 4/50, train loss: 2305.10888671875, train AUC: 0.5302083951392187\n",
            "Epoch 4/50, valid loss: 1568469.25, valid AUC: 0.5412323579686635\n",
            "==== best valid AUC: 0.5412323579686635 ====\n"
          ]
        },
        {
          "output_type": "stream",
          "name": "stderr",
          "text": [
            "100%|██████████| 107/107 [00:01<00:00, 76.26it/s]\n"
          ]
        },
        {
          "output_type": "stream",
          "name": "stdout",
          "text": [
            "Epoch 5/50, train loss: 2299.633056640625, train AUC: 0.5395806270512652\n",
            "Epoch 5/50, valid loss: 1565225.5, valid AUC: 0.5457513574679206\n",
            "==== best valid AUC: 0.5457513574679206 ====\n"
          ]
        },
        {
          "output_type": "stream",
          "name": "stderr",
          "text": [
            "100%|██████████| 107/107 [00:01<00:00, 64.33it/s]\n"
          ]
        },
        {
          "output_type": "stream",
          "name": "stdout",
          "text": [
            "Epoch 6/50, train loss: 2288.944091796875, train AUC: 0.5458379176358582\n",
            "Epoch 6/50, valid loss: 1564154.375, valid AUC: 0.5494270503464472\n",
            "==== best valid AUC: 0.5494270503464472 ====\n"
          ]
        },
        {
          "output_type": "stream",
          "name": "stderr",
          "text": [
            "100%|██████████| 107/107 [00:01<00:00, 53.74it/s]\n"
          ]
        },
        {
          "output_type": "stream",
          "name": "stdout",
          "text": [
            "Epoch 7/50, train loss: 2279.695556640625, train AUC: 0.5553833879935799\n",
            "Epoch 7/50, valid loss: 1560943.375, valid AUC: 0.5544736295399164\n",
            "==== best valid AUC: 0.5544736295399164 ====\n"
          ]
        },
        {
          "output_type": "stream",
          "name": "stderr",
          "text": [
            "100%|██████████| 107/107 [00:01<00:00, 75.75it/s]\n"
          ]
        },
        {
          "output_type": "stream",
          "name": "stdout",
          "text": [
            "Epoch 8/50, train loss: 2276.544921875, train AUC: 0.5620545646702149\n",
            "Epoch 8/50, valid loss: 1558617.0, valid AUC: 0.5588095074217929\n",
            "==== best valid AUC: 0.5588095074217929 ====\n"
          ]
        },
        {
          "output_type": "stream",
          "name": "stderr",
          "text": [
            "100%|██████████| 107/107 [00:01<00:00, 75.44it/s]\n"
          ]
        },
        {
          "output_type": "stream",
          "name": "stdout",
          "text": [
            "Epoch 9/50, train loss: 2270.353515625, train AUC: 0.565650782466274\n",
            "Epoch 9/50, valid loss: 1559071.75, valid AUC: 0.5587435204941504\n"
          ]
        },
        {
          "output_type": "stream",
          "name": "stderr",
          "text": [
            "100%|██████████| 107/107 [00:01<00:00, 75.56it/s]\n"
          ]
        },
        {
          "output_type": "stream",
          "name": "stdout",
          "text": [
            "Epoch 10/50, train loss: 2258.576416015625, train AUC: 0.5743450822493898\n",
            "Epoch 10/50, valid loss: 1558085.5, valid AUC: 0.5592407904034169\n",
            "==== best valid AUC: 0.5592407904034169 ====\n"
          ]
        },
        {
          "output_type": "stream",
          "name": "stderr",
          "text": [
            "100%|██████████| 107/107 [00:01<00:00, 76.14it/s]\n"
          ]
        },
        {
          "output_type": "stream",
          "name": "stdout",
          "text": [
            "Epoch 11/50, train loss: 2258.139892578125, train AUC: 0.5774319379785657\n",
            "Epoch 11/50, valid loss: 1550297.125, valid AUC: 0.5708030261794453\n",
            "==== best valid AUC: 0.5708030261794453 ====\n"
          ]
        },
        {
          "output_type": "stream",
          "name": "stderr",
          "text": [
            "100%|██████████| 107/107 [00:02<00:00, 40.73it/s]\n"
          ]
        },
        {
          "output_type": "stream",
          "name": "stdout",
          "text": [
            "Epoch 12/50, train loss: 2240.1376953125, train AUC: 0.5936278031761273\n",
            "Epoch 12/50, valid loss: 1551685.125, valid AUC: 0.5657333989203402\n"
          ]
        },
        {
          "output_type": "stream",
          "name": "stderr",
          "text": [
            "100%|██████████| 107/107 [00:01<00:00, 56.13it/s]\n"
          ]
        },
        {
          "output_type": "stream",
          "name": "stdout",
          "text": [
            "Epoch 13/50, train loss: 2241.19970703125, train AUC: 0.5946947359005026\n",
            "Epoch 13/50, valid loss: 1544381.25, valid AUC: 0.575770673641285\n",
            "==== best valid AUC: 0.575770673641285 ====\n"
          ]
        },
        {
          "output_type": "stream",
          "name": "stderr",
          "text": [
            "100%|██████████| 107/107 [00:01<00:00, 75.31it/s]\n"
          ]
        },
        {
          "output_type": "stream",
          "name": "stdout",
          "text": [
            "Epoch 14/50, train loss: 2238.82958984375, train AUC: 0.5962551807763793\n",
            "Epoch 14/50, valid loss: 1550016.125, valid AUC: 0.5711781097681491\n"
          ]
        },
        {
          "output_type": "stream",
          "name": "stderr",
          "text": [
            "100%|██████████| 107/107 [00:01<00:00, 75.65it/s]\n"
          ]
        },
        {
          "output_type": "stream",
          "name": "stdout",
          "text": [
            "Epoch 15/50, train loss: 2230.68505859375, train AUC: 0.6060842554394953\n",
            "Epoch 15/50, valid loss: 1544932.875, valid AUC: 0.5783732106965757\n",
            "==== best valid AUC: 0.5783732106965757 ====\n"
          ]
        },
        {
          "output_type": "stream",
          "name": "stderr",
          "text": [
            "100%|██████████| 107/107 [00:01<00:00, 76.41it/s]\n"
          ]
        },
        {
          "output_type": "stream",
          "name": "stdout",
          "text": [
            "Epoch 16/50, train loss: 2222.962158203125, train AUC: 0.6058819525409109\n",
            "Epoch 16/50, valid loss: 1547169.875, valid AUC: 0.5757937217069209\n"
          ]
        },
        {
          "output_type": "stream",
          "name": "stderr",
          "text": [
            "100%|██████████| 107/107 [00:01<00:00, 75.41it/s]\n"
          ]
        },
        {
          "output_type": "stream",
          "name": "stdout",
          "text": [
            "Epoch 17/50, train loss: 2216.3193359375, train AUC: 0.6120442377538508\n",
            "Epoch 17/50, valid loss: 1546116.375, valid AUC: 0.5758647602653875\n"
          ]
        },
        {
          "output_type": "stream",
          "name": "stderr",
          "text": [
            "100%|██████████| 107/107 [00:01<00:00, 76.16it/s]\n"
          ]
        },
        {
          "output_type": "stream",
          "name": "stdout",
          "text": [
            "Epoch 18/50, train loss: 2213.282958984375, train AUC: 0.6145417288741334\n",
            "Epoch 18/50, valid loss: 1538576.0, valid AUC: 0.5849213871525663\n",
            "==== best valid AUC: 0.5849213871525663 ====\n"
          ]
        },
        {
          "output_type": "stream",
          "name": "stderr",
          "text": [
            "100%|██████████| 107/107 [00:01<00:00, 75.42it/s]\n"
          ]
        },
        {
          "output_type": "stream",
          "name": "stdout",
          "text": [
            "Epoch 19/50, train loss: 2197.75390625, train AUC: 0.6228240438020882\n",
            "Epoch 19/50, valid loss: 1538353.625, valid AUC: 0.5840323001274905\n"
          ]
        },
        {
          "output_type": "stream",
          "name": "stderr",
          "text": [
            "100%|██████████| 107/107 [00:01<00:00, 59.78it/s]\n"
          ]
        },
        {
          "output_type": "stream",
          "name": "stdout",
          "text": [
            "Epoch 20/50, train loss: 2202.534912109375, train AUC: 0.624607592237472\n",
            "Epoch 20/50, valid loss: 1537977.375, valid AUC: 0.5832783442269648\n"
          ]
        },
        {
          "output_type": "stream",
          "name": "stderr",
          "text": [
            "100%|██████████| 107/107 [00:01<00:00, 65.83it/s]\n"
          ]
        },
        {
          "output_type": "stream",
          "name": "stdout",
          "text": [
            "Epoch 21/50, train loss: 2199.35107421875, train AUC: 0.6259826947536704\n",
            "Epoch 21/50, valid loss: 1529536.75, valid AUC: 0.5928903347778893\n",
            "==== best valid AUC: 0.5928903347778893 ====\n"
          ]
        },
        {
          "output_type": "stream",
          "name": "stderr",
          "text": [
            "100%|██████████| 107/107 [00:01<00:00, 76.75it/s]\n"
          ]
        },
        {
          "output_type": "stream",
          "name": "stdout",
          "text": [
            "Epoch 22/50, train loss: 2198.83935546875, train AUC: 0.6280111639123704\n",
            "Epoch 22/50, valid loss: 1531342.375, valid AUC: 0.5925471396087638\n"
          ]
        },
        {
          "output_type": "stream",
          "name": "stderr",
          "text": [
            "100%|██████████| 107/107 [00:01<00:00, 76.02it/s]\n"
          ]
        },
        {
          "output_type": "stream",
          "name": "stdout",
          "text": [
            "Epoch 23/50, train loss: 2193.280517578125, train AUC: 0.6313393073082492\n",
            "Epoch 23/50, valid loss: 1532625.625, valid AUC: 0.5919185272980657\n"
          ]
        },
        {
          "output_type": "stream",
          "name": "stderr",
          "text": [
            "100%|██████████| 107/107 [00:01<00:00, 75.18it/s]\n"
          ]
        },
        {
          "output_type": "stream",
          "name": "stdout",
          "text": [
            "Epoch 24/50, train loss: 2183.231201171875, train AUC: 0.6335666533743227\n",
            "Epoch 24/50, valid loss: 1530942.0, valid AUC: 0.5925439823394987\n"
          ]
        },
        {
          "output_type": "stream",
          "name": "stderr",
          "text": [
            "100%|██████████| 107/107 [00:01<00:00, 76.27it/s]\n"
          ]
        },
        {
          "output_type": "stream",
          "name": "stdout",
          "text": [
            "Epoch 25/50, train loss: 2187.28173828125, train AUC: 0.637132790214586\n",
            "Epoch 25/50, valid loss: 1528191.25, valid AUC: 0.5914945060357517\n"
          ]
        },
        {
          "output_type": "stream",
          "name": "stderr",
          "text": [
            "100%|██████████| 107/107 [00:01<00:00, 76.20it/s]\n"
          ]
        },
        {
          "output_type": "stream",
          "name": "stdout",
          "text": [
            "Epoch 26/50, train loss: 2183.028564453125, train AUC: 0.637005821474384\n",
            "Epoch 26/50, valid loss: 1525770.625, valid AUC: 0.5970026779957908\n",
            "==== best valid AUC: 0.5970026779957908 ====\n"
          ]
        },
        {
          "output_type": "stream",
          "name": "stderr",
          "text": [
            "100%|██████████| 107/107 [00:01<00:00, 65.48it/s]\n"
          ]
        },
        {
          "output_type": "stream",
          "name": "stdout",
          "text": [
            "Epoch 27/50, train loss: 2176.49462890625, train AUC: 0.6399771911811523\n",
            "Epoch 27/50, valid loss: 1523296.25, valid AUC: 0.6006840539589947\n",
            "==== best valid AUC: 0.6006840539589947 ====\n"
          ]
        },
        {
          "output_type": "stream",
          "name": "stderr",
          "text": [
            "100%|██████████| 107/107 [00:01<00:00, 59.95it/s]\n"
          ]
        },
        {
          "output_type": "stream",
          "name": "stdout",
          "text": [
            "Epoch 28/50, train loss: 2180.5322265625, train AUC: 0.6376820782559642\n",
            "Epoch 28/50, valid loss: 1517994.0, valid AUC: 0.6066793925666515\n",
            "==== best valid AUC: 0.6066793925666515 ====\n"
          ]
        },
        {
          "output_type": "stream",
          "name": "stderr",
          "text": [
            "100%|██████████| 107/107 [00:01<00:00, 76.54it/s]\n"
          ]
        },
        {
          "output_type": "stream",
          "name": "stdout",
          "text": [
            "Epoch 29/50, train loss: 2175.392333984375, train AUC: 0.6394408729636436\n",
            "Epoch 29/50, valid loss: 1526870.0, valid AUC: 0.593437173814619\n"
          ]
        },
        {
          "output_type": "stream",
          "name": "stderr",
          "text": [
            "100%|██████████| 107/107 [00:01<00:00, 76.22it/s]\n"
          ]
        },
        {
          "output_type": "stream",
          "name": "stdout",
          "text": [
            "Epoch 30/50, train loss: 2172.56103515625, train AUC: 0.6421126002083605\n",
            "Epoch 30/50, valid loss: 1522141.625, valid AUC: 0.5976401306604312\n"
          ]
        },
        {
          "output_type": "stream",
          "name": "stderr",
          "text": [
            "100%|██████████| 107/107 [00:01<00:00, 75.57it/s]\n"
          ]
        },
        {
          "output_type": "stream",
          "name": "stdout",
          "text": [
            "Epoch 31/50, train loss: 2166.837646484375, train AUC: 0.6468035727892869\n",
            "Epoch 31/50, valid loss: 1518923.0, valid AUC: 0.6003282297128085\n"
          ]
        },
        {
          "output_type": "stream",
          "name": "stderr",
          "text": [
            "100%|██████████| 107/107 [00:01<00:00, 76.16it/s]\n"
          ]
        },
        {
          "output_type": "stream",
          "name": "stdout",
          "text": [
            "Epoch 32/50, train loss: 2165.082275390625, train AUC: 0.644861826386126\n",
            "Epoch 32/50, valid loss: 1518846.5, valid AUC: 0.6018443504139496\n"
          ]
        },
        {
          "output_type": "stream",
          "name": "stderr",
          "text": [
            "100%|██████████| 107/107 [00:01<00:00, 77.16it/s]\n"
          ]
        },
        {
          "output_type": "stream",
          "name": "stdout",
          "text": [
            "Epoch 33/50, train loss: 2172.009521484375, train AUC: 0.6460803686336424\n",
            "Epoch 33/50, valid loss: 1523440.5, valid AUC: 0.5971798008015675\n"
          ]
        },
        {
          "output_type": "stream",
          "name": "stderr",
          "text": [
            "100%|██████████| 107/107 [00:01<00:00, 71.52it/s]\n"
          ]
        },
        {
          "output_type": "stream",
          "name": "stdout",
          "text": [
            "Epoch 34/50, train loss: 2161.976806640625, train AUC: 0.6482904906230245\n",
            "Epoch 34/50, valid loss: 1515045.75, valid AUC: 0.6042306145245753\n"
          ]
        },
        {
          "output_type": "stream",
          "name": "stderr",
          "text": [
            "100%|██████████| 107/107 [00:01<00:00, 55.96it/s]\n"
          ]
        },
        {
          "output_type": "stream",
          "name": "stdout",
          "text": [
            "Epoch 35/50, train loss: 2160.994140625, train AUC: 0.648629324918597\n",
            "Epoch 35/50, valid loss: 1522091.0, valid AUC: 0.5972382102829734\n"
          ]
        },
        {
          "output_type": "stream",
          "name": "stderr",
          "text": [
            "100%|██████████| 107/107 [00:01<00:00, 72.93it/s]\n"
          ]
        },
        {
          "output_type": "stream",
          "name": "stdout",
          "text": [
            "Epoch 36/50, train loss: 2161.42724609375, train AUC: 0.6495219462220276\n",
            "Epoch 36/50, valid loss: 1512049.0, valid AUC: 0.6106761797294473\n",
            "==== best valid AUC: 0.6106761797294473 ====\n"
          ]
        },
        {
          "output_type": "stream",
          "name": "stderr",
          "text": [
            "100%|██████████| 107/107 [00:01<00:00, 75.22it/s]\n"
          ]
        },
        {
          "output_type": "stream",
          "name": "stdout",
          "text": [
            "Epoch 37/50, train loss: 2160.910400390625, train AUC: 0.6496708074225492\n",
            "Epoch 37/50, valid loss: 1521069.375, valid AUC: 0.5991770893387226\n"
          ]
        },
        {
          "output_type": "stream",
          "name": "stderr",
          "text": [
            "100%|██████████| 107/107 [00:01<00:00, 76.69it/s]\n"
          ]
        },
        {
          "output_type": "stream",
          "name": "stdout",
          "text": [
            "Epoch 38/50, train loss: 2158.467529296875, train AUC: 0.6499732735037304\n",
            "Epoch 38/50, valid loss: 1515432.75, valid AUC: 0.6079511406266674\n"
          ]
        },
        {
          "output_type": "stream",
          "name": "stderr",
          "text": [
            "100%|██████████| 107/107 [00:01<00:00, 75.75it/s]\n"
          ]
        },
        {
          "output_type": "stream",
          "name": "stdout",
          "text": [
            "Epoch 39/50, train loss: 2153.523193359375, train AUC: 0.6525679535944596\n",
            "Epoch 39/50, valid loss: 1513447.75, valid AUC: 0.60553330382339\n"
          ]
        },
        {
          "output_type": "stream",
          "name": "stderr",
          "text": [
            "100%|██████████| 107/107 [00:01<00:00, 77.50it/s]\n"
          ]
        },
        {
          "output_type": "stream",
          "name": "stdout",
          "text": [
            "Epoch 40/50, train loss: 2155.8720703125, train AUC: 0.6486823713099816\n",
            "Epoch 40/50, valid loss: 1515732.5, valid AUC: 0.606152128599366\n"
          ]
        },
        {
          "output_type": "stream",
          "name": "stderr",
          "text": [
            "100%|██████████| 107/107 [00:01<00:00, 75.97it/s]\n"
          ]
        },
        {
          "output_type": "stream",
          "name": "stdout",
          "text": [
            "Epoch 41/50, train loss: 2154.592041015625, train AUC: 0.6517269292245935\n",
            "Epoch 41/50, valid loss: 1513651.625, valid AUC: 0.6070778399479176\n"
          ]
        },
        {
          "output_type": "stream",
          "name": "stderr",
          "text": [
            "100%|██████████| 107/107 [00:01<00:00, 63.78it/s]\n"
          ]
        },
        {
          "output_type": "stream",
          "name": "stdout",
          "text": [
            "Epoch 42/50, train loss: 2149.442138671875, train AUC: 0.6504634726087861\n",
            "Epoch 42/50, valid loss: 1515419.25, valid AUC: 0.6036392579912063\n"
          ]
        },
        {
          "output_type": "stream",
          "name": "stderr",
          "text": [
            "100%|██████████| 107/107 [00:01<00:00, 58.39it/s]\n"
          ]
        },
        {
          "output_type": "stream",
          "name": "stdout",
          "text": [
            "Epoch 43/50, train loss: 2152.516357421875, train AUC: 0.6499994578651271\n",
            "Epoch 43/50, valid loss: 1513335.5, valid AUC: 0.6056624361363359\n"
          ]
        },
        {
          "output_type": "stream",
          "name": "stderr",
          "text": [
            "100%|██████████| 107/107 [00:01<00:00, 76.94it/s]\n"
          ]
        },
        {
          "output_type": "stream",
          "name": "stdout",
          "text": [
            "Epoch 44/50, train loss: 2149.218017578125, train AUC: 0.6544858121797829\n",
            "Epoch 44/50, valid loss: 1514453.25, valid AUC: 0.6077737020939641\n"
          ]
        },
        {
          "output_type": "stream",
          "name": "stderr",
          "text": [
            "100%|██████████| 107/107 [00:01<00:00, 76.43it/s]\n"
          ]
        },
        {
          "output_type": "stream",
          "name": "stdout",
          "text": [
            "Epoch 45/50, train loss: 2153.3837890625, train AUC: 0.6506668108343847\n",
            "Epoch 45/50, valid loss: 1515135.75, valid AUC: 0.6038934181670536\n"
          ]
        },
        {
          "output_type": "stream",
          "name": "stderr",
          "text": [
            "100%|██████████| 107/107 [00:01<00:00, 76.76it/s]\n"
          ]
        },
        {
          "output_type": "stream",
          "name": "stdout",
          "text": [
            "Epoch 46/50, train loss: 2154.034423828125, train AUC: 0.6506468007868184\n",
            "Epoch 46/50, valid loss: 1515064.75, valid AUC: 0.6065467872575139\n"
          ]
        },
        {
          "output_type": "stream",
          "name": "stderr",
          "text": [
            "100%|██████████| 107/107 [00:01<00:00, 73.95it/s]\n"
          ]
        },
        {
          "output_type": "stream",
          "name": "stdout",
          "text": [
            "Epoch 47/50, train loss: 2148.16650390625, train AUC: 0.653880221172957\n",
            "Epoch 47/50, valid loss: 1528282.0, valid AUC: 0.5932370029432064\n"
          ]
        },
        {
          "output_type": "stream",
          "name": "stderr",
          "text": [
            "100%|██████████| 107/107 [00:01<00:00, 76.58it/s]\n"
          ]
        },
        {
          "output_type": "stream",
          "name": "stdout",
          "text": [
            "Epoch 48/50, train loss: 2148.962646484375, train AUC: 0.654287669413383\n",
            "Epoch 48/50, valid loss: 1517716.5, valid AUC: 0.6032698574871799\n"
          ]
        },
        {
          "output_type": "stream",
          "name": "stderr",
          "text": [
            "100%|██████████| 107/107 [00:01<00:00, 75.79it/s]\n"
          ]
        },
        {
          "output_type": "stream",
          "name": "stdout",
          "text": [
            "Epoch 49/50, train loss: 2152.876220703125, train AUC: 0.6536489479421012\n",
            "Epoch 49/50, valid loss: 1517154.0, valid AUC: 0.6040664365227857\n"
          ]
        },
        {
          "output_type": "stream",
          "name": "stderr",
          "text": [
            "100%|██████████| 107/107 [00:02<00:00, 40.56it/s]\n",
            "<ipython-input-87-ed766a1f158b>:50: FutureWarning: You are using `torch.load` with `weights_only=False` (the current default value), which uses the default pickle module implicitly. It is possible to construct malicious pickle data which will execute arbitrary code during unpickling (See https://github.com/pytorch/pytorch/blob/main/SECURITY.md#untrusted-models for more details). In a future release, the default value for `weights_only` will be flipped to `True`. This limits the functions that could be executed during unpickling. Arbitrary objects will no longer be allowed to be loaded via this mode unless they are explicitly allowlisted by the user via `torch.serialization.add_safe_globals`. We recommend you start setting `weights_only=True` for any use case where you don't have full control of the loaded file. Please open an issue on GitHub for any issues related to this experimental feature.\n",
            "  model.load_state_dict(torch.load(config.ckpt_path))\n"
          ]
        },
        {
          "output_type": "stream",
          "name": "stdout",
          "text": [
            "Epoch 50/50, train loss: 2150.990234375, train AUC: 0.6528944769106264\n",
            "Epoch 50/50, valid loss: 1511503.25, valid AUC: 0.6101928018049477\n"
          ]
        }
      ],
      "source": [
        "model = simple_nn(num_cat)\n",
        "train(model, train_loader, valid_loader, config)"
      ]
    },
    {
      "cell_type": "markdown",
      "metadata": {
        "id": "9RrkXEiWgas7"
      },
      "source": [
        "## Test"
      ]
    },
    {
      "cell_type": "markdown",
      "source": [
        "Testing on XGboost"
      ],
      "metadata": {
        "id": "4z608do_cV96"
      }
    },
    {
      "cell_type": "code",
      "source": [
        "test_cat_data, test_num_data, nc = load_csv(data_dir + '/test.csv', labelled=False, categories=categories)\n",
        "test_dataset = PPD(test_cat_data, test_num_data)\n",
        "test_loader = torch.utils.data.DataLoader(test_dataset, batch_size=config.batch_size, shuffle=False)\n",
        "X_test = np.concatenate((test_cat_data, test_num_data), axis=1)\n",
        "dtest = xgb.DMatrix(X_test)  # Create DMatrix for test data\n",
        "\n",
        "# 2. Generate predictions\n",
        "test_predictions = xgb_model.predict(dtest)  # Use the trained model to predict\n",
        "\n",
        "# 3. Save predictions to predict.csv\n",
        "predictions_with_ids = []\n",
        "for i in range(len(test_predictions)):\n",
        "    predictions_with_ids.append([i, test_predictions[i]])\n",
        "\n",
        "with open('predict_xgb.csv', 'w', newline='') as csvfile:\n",
        "    writer = csv.writer(csvfile)\n",
        "    writer.writerow(['id', 'label'])  # Write header\n",
        "    writer.writerows(predictions_with_ids)\n",
        "\n",
        "print(\"XGboost Predictions saved to predict_xgb.csv\")"
      ],
      "metadata": {
        "colab": {
          "base_uri": "https://localhost:8080/"
        },
        "id": "8x9yFn-gcU_R",
        "outputId": "74afefab-5d19-4c01-eaea-1a54f15d6a60"
      },
      "execution_count": null,
      "outputs": [
        {
          "output_type": "stream",
          "name": "stdout",
          "text": [
            "XGboost Predictions saved to predict_xgb.csv\n"
          ]
        }
      ]
    },
    {
      "cell_type": "code",
      "execution_count": null,
      "metadata": {
        "id": "Q9sfF73Rgas7"
      },
      "outputs": [],
      "source": [
        "test_cat_data, test_num_data, nc = load_csv(data_dir + '/test.csv', labelled=False, categories=categories)\n",
        "test_dataset = PPD(test_cat_data, test_num_data)\n",
        "test_loader = torch.utils.data.DataLoader(test_dataset, batch_size=config.batch_size, shuffle=False)\n",
        "\n",
        "# Generate predictions\n",
        "predictions = []\n",
        "with torch.no_grad():\n",
        "    model.eval().cuda()\n",
        "    for x_cat, x_num in test_loader:\n",
        "        x_cat, x_num = x_cat.to(config.device), x_num.to(config.device)\n",
        "        predictions.extend(model(x_cat, x_num).cpu().tolist())\n",
        "\n",
        "# save\n",
        "with open('predict.csv', 'w', newline='') as csvfile:\n",
        "    writer = csv.writer(csvfile)\n",
        "    writer.writerow(['id', 'label'])\n",
        "    for i, p in enumerate(predictions):\n",
        "        writer.writerow([i, p])"
      ]
    },
    {
      "cell_type": "markdown",
      "metadata": {
        "id": "fix1Kv-4gas7"
      },
      "source": [
        "## Feature importance"
      ]
    },
    {
      "cell_type": "code",
      "source": [
        "categorical_features = ['urbanization', 'Sex_boy', 'unexpectedPre', 'firstborn', 'singleton',\n",
        "       'edu_M_high', 'martial', 'Somke_perinatal', 'family support_good',\n",
        "       'income', 'baby_health', 'Alcohol_preg', 'Jobstress_preg',\n",
        "       'Job_stress_6m', 'AD_B', 'AS_M', 'AR_M', 'AD_M', 'allergy_M', 'PET',\n",
        "       'incense', 'mold', 'water_wall', 'Vitamin_tri1', 'Vitamin_tri23',\n",
        "       'Vitamin_p', 'fishliveroil_tri1', 'fishliveroil_tri23', 'fishoil_tri1',\n",
        "       'fishoil_tri23', 'antibiotic_p', 'Vitamin_post', 'fishliveroil_post',\n",
        "       'Probiotics_post', 'burn_around_house', 'industry_around_house',\n",
        "       'odor_around_house', 'paintrenov_p', 'paintrenov_post',\n",
        "       'pure_day_time_work_preg', 'pure_night_work_preg', 'shift_work_preg',\n",
        "       'pure_day_time_work_6m', 'pure_night_work_6m', 'shift_work_6m']\n",
        "continuous_features = ['birth_month', 'Gestation', 'birth_weight', 'Parity', 'multibirth',\n",
        "       'mother_age', 'Height_M', 'BW_before_P', 'BMI_before_P', 'BW_before_D',\n",
        "       'BWgain', 'CS', 'tocolysis', 'breastfeed', 'APGAR_1', 'APGAR_5',\n",
        "       'edu_F_high', 'Somke_perg.', 'sencondsmoke_6m', 'Y0_CO', 'Tri1_CO',\n",
        "       'Tri2_CO', 'Tri3_CO', '365_CO', 'Y0_NO2', 'Tri1_NO2', 'Tri2_NO2',\n",
        "       'Tri3_NO2', '365_NO2', 'Y0_PM25', 'Tri1_PM25', 'Tri2_PM25', 'Tri3_PM25',\n",
        "       '365_PM25', 'Tri1_PM10', 'Tri2_PM10', 'Tri3_PM10', 'Tri1_SO2',\n",
        "       'Tri2_SO2', 'Tri3_SO2', 'Tri1_O3', 'Tri2_O3', 'Tri3_O3', 'Tri1_NOx',\n",
        "       'Tri2_NOx', 'Tri3_NOx', 'Tri1_NO', 'Tri2_NO', 'Tri3_NO', 'Tri1_TEMP',\n",
        "       'Tri2_TEMP', 'Tri3_TEMP', 'Mean NOx', 'Mean NO', 'Mean TEMP', 'Tri1_RH',\n",
        "       'Tri2_RH', 'Tri3_RH']"
      ],
      "metadata": {
        "id": "U1VPLKfvIeDA"
      },
      "execution_count": null,
      "outputs": []
    },
    {
      "cell_type": "markdown",
      "metadata": {
        "id": "GZn6AgbDgas7"
      },
      "source": [
        "### Ablation Study"
      ]
    },
    {
      "cell_type": "code",
      "execution_count": null,
      "metadata": {
        "id": "LvHki9j-gas8",
        "colab": {
          "base_uri": "https://localhost:8080/",
          "height": 935
        },
        "outputId": "225b0db9-5248-4a32-f49a-21025d92ba57"
      },
      "outputs": [
        {
          "output_type": "stream",
          "name": "stdout",
          "text": [
            "[ 8  3 13 21 22]\n",
            "Most Important Categorical Features: ['family support_good', 'firstborn', 'Job_stress_6m', 'mold', 'water_wall']\n",
            "[30  9 34  1 14]\n",
            "Most Important Continuous Features: ['Tri1_PM25', 'BW_before_D', 'Tri1_PM10', 'Gestation', 'APGAR_1']\n"
          ]
        },
        {
          "output_type": "execute_result",
          "data": {
            "text/plain": [
              "<BarContainer object of 58 artists>"
            ]
          },
          "metadata": {},
          "execution_count": 93
        },
        {
          "output_type": "display_data",
          "data": {
            "text/plain": [
              "<Figure size 640x480 with 1 Axes>"
            ],
            "image/png": "[encoded data removed]"
          },
          "metadata": {}
        },
        {
          "output_type": "display_data",
          "data": {
            "text/plain": [
              "<Figure size 640x480 with 1 Axes>"
            ],
            "image/png": "[encoded data removed]"
          },
          "metadata": {}
        }
      ],
      "source": [
        "all_auc = []\n",
        "model.eval()\n",
        "\n",
        "with torch.no_grad():\n",
        "    for i in range(len(num_cat)):\n",
        "        auc_ = 0\n",
        "        for x_cat, x_num, y in valid_loader:\n",
        "            x_cat, x_num = x_cat.to(config.device), x_num.to(config.device)\n",
        "            x_cat[:, i] = 0\n",
        "            y_pred = model(x_cat, x_num)\n",
        "            auc_ += auc(y_pred, y)\n",
        "        all_auc.append(auc_/len(valid_loader))\n",
        "\n",
        "    for i in range(len(num_cat), 103):\n",
        "        auc_ = 0\n",
        "        for x_cat, x_num, y in valid_loader:\n",
        "            x_cat, x_num = x_cat.to(config.device), x_num.to(config.device)\n",
        "            x_num[:, i-len(num_cat)] = -100\n",
        "            y_pred = model(x_cat, x_num)\n",
        "            auc_ += auc(y_pred, y)\n",
        "        all_auc.append(auc_/len(valid_loader))\n",
        "\n",
        "    normal_auc = 0\n",
        "    for x_cat, x_num, y in valid_loader:\n",
        "        x_cat, x_num = x_cat.to(config.device), x_num.to(config.device)\n",
        "        y_pred = model(x_cat, x_num)\n",
        "        normal_auc += auc(y_pred, y)\n",
        "    normal_auc /= len(valid_loader)\n",
        "\n",
        "delta = np.array(all_auc) - normal_auc\n",
        "# print top 5\n",
        "idx_cat = np.argsort(delta[:len(num_cat)])\n",
        "idx_num = np.argsort(delta[len(num_cat):])\n",
        "print(idx_cat[:5])\n",
        "print(f\"Most Important Categorical Features: {[categorical_features[i] for i in idx_cat[:5]]}\")\n",
        "print(idx_num[:5])\n",
        "print(f\"Most Important Continuous Features: {[continuous_features[i] for i in idx_num[:5]]}\")\n",
        "\n",
        "# use plt.bar to print the results\n",
        "plt.figure()\n",
        "plt.bar(np.arange(len(num_cat)), delta[idx_cat])\n",
        "\n",
        "# use plt.bar to print the results\n",
        "plt.figure()\n",
        "plt.bar(np.arange(103-len(num_cat)), delta[idx_num + len(num_cat)])"
      ]
    },
    {
      "cell_type": "markdown",
      "source": [
        "## XGBoost"
      ],
      "metadata": {
        "id": "thqMYMWuEZPg"
      }
    },
    {
      "cell_type": "code",
      "source": [
        "# XGBoost Ablation Study\n",
        "def xgb_ablation(X_train, y_train, X_val, y_val, feature_type, feature_index, replace_value):\n",
        "    # Create a copy of the data to modify for the ablation study\n",
        "    X_val_ablated = X_val.copy()\n",
        "    X_val_ablated[:, feature_index] = replace_value\n",
        "\n",
        "    # Create DMatrix\n",
        "    dval_ablated = xgb.DMatrix(X_val_ablated, label=y_val)\n",
        "\n",
        "    # Predict with the ablated data\n",
        "    y_pred_prob_ablated = xgb_model.predict(dval_ablated)\n",
        "    auc_ablated = roc_auc_score(y_val, y_pred_prob_ablated)\n",
        "\n",
        "    return auc_ablated\n",
        "\n",
        "# AUC Scores for Ablation Study\n",
        "categorical_auc_scores = []\n",
        "numerical_auc_scores = []\n",
        "\n",
        "# Iterate through categorical features\n",
        "for i in range(X_train.shape[1]):  # Assuming first columns are categorical\n",
        "    if i < len(num_cat):  # categorical features\n",
        "        auc_ablated = xgb_ablation(X_train, y_train, X_val, y_val, \"categorical\", i, 0)\n",
        "        categorical_auc_scores.append(auc_ablated)\n",
        "    else: # numerical features\n",
        "        auc_ablated = xgb_ablation(X_train, y_train, X_val, y_val, \"numerical\", i, -100)\n",
        "        numerical_auc_scores.append(auc_ablated)\n",
        "\n",
        "\n",
        "# Calculate the AUC of the original model\n",
        "y_pred_prob = xgb_model.predict(dval)\n",
        "original_auc = roc_auc_score(y_val, y_pred_prob)\n",
        "\n",
        "# Plot the changes in AUC for categorical features\n",
        "delta_cat = np.array(categorical_auc_scores) - original_auc\n",
        "\n",
        "# Sort the delta_cat array and get the indices\n",
        "idx_cat = np.argsort(delta_cat)\n",
        "print(f\"Categorical Features Selected from Ablation Study: {[categorical_features[i] for i in idx_cat[:5]]}\")\n",
        "print(idx_cat[:5])\n",
        "\n",
        "# Sort delta_cat based on sorted_indices\n",
        "sorted_delta_cat = delta_cat[idx_cat]\n",
        "\n",
        "# Create x-axis values (feature indices) in the original order\n",
        "x_values = np.arange(len(delta_cat))\n",
        "\n",
        "\n",
        "plt.figure(figsize=(10, 6))\n",
        "plt.bar(range(len(sorted_delta_cat)), sorted_delta_cat)\n",
        "plt.xlabel('Categorical Feature Index')\n",
        "plt.ylabel('Change in AUC')\n",
        "plt.title('XGBoost Ablation Study: Categorical Features')\n",
        "\n",
        "# Set x-axis ticks to original feature indices\n",
        "plt.xticks(range(len(sorted_delta_cat)), x_values[idx_cat], rotation=45, ha='right')\n",
        "plt.show()\n",
        "\n",
        "\n",
        "# Plot the changes in AUC for numerical features\n",
        "delta_numerical = np.array(numerical_auc_scores) - original_auc\n",
        "\n",
        "# Sort the delta_numerical array and get the indices\n",
        "idx_num = np.argsort(delta_numerical)\n",
        "print(f\"Continuous Features Selected from Ablation Study: {[continuous_features[i] for i in idx_num[:5]]}\")\n",
        "print(idx_num[:5])\n",
        "\n",
        "# Sort delta_numerical based on sorted_indices\n",
        "sorted_delta_numerical = delta_numerical[idx_num]\n",
        "\n",
        "# Create x-axis values (feature indices) in the original order\n",
        "x_values = np.arange(len(delta_numerical))\n",
        "\n",
        "\n",
        "plt.figure(figsize=(10, 6))\n",
        "plt.bar(range(len(sorted_delta_numerical)), sorted_delta_numerical)\n",
        "plt.xlabel('Numerical Feature Index')\n",
        "plt.ylabel('Change in AUC')\n",
        "plt.title('XGBoost Ablation Study: Numerical Features')\n",
        "\n",
        "# Set x-axis ticks to original feature indices\n",
        "plt.xticks(range(len(sorted_delta_numerical)), x_values[idx_num], rotation=45, ha='right')\n",
        "\n",
        "plt.show()"
      ],
      "metadata": {
        "colab": {
          "base_uri": "https://localhost:8080/",
          "height": 1000
        },
        "id": "zVV_t5zF4lFE",
        "outputId": "59e9d2d2-2e40-4366-a8ce-4db2e1f3656d"
      },
      "execution_count": null,
      "outputs": [
        {
          "output_type": "stream",
          "name": "stdout",
          "text": [
            "Categorical Features Selected from Ablation Study: ['family support_good', 'firstborn', 'unexpectedPre', 'water_wall', 'edu_M_high']\n",
            "[ 8  3  2 22  5]\n"
          ]
        },
        {
          "output_type": "display_data",
          "data": {
            "text/plain": [
              "<Figure size 1000x600 with 1 Axes>"
            ],
            "image/png": "[encoded data removed]"
          },
          "metadata": {}
        },
        {
          "output_type": "stream",
          "name": "stdout",
          "text": [
            "Continuous Features Selected from Ablation Study: ['365_NO2', 'birth_weight', 'Tri2_RH', '365_CO', 'mother_age']\n",
            "[28  2 56 23  5]\n"
          ]
        },
        {
          "output_type": "display_data",
          "data": {
            "text/plain": [
              "<Figure size 1000x600 with 1 Axes>"
            ],
            "image/png": "[encoded data removed]"
          },
          "metadata": {}
        }
      ]
    },
    {
      "cell_type": "markdown",
      "metadata": {
        "id": "ZQsXYUkFgas8"
      },
      "source": [
        "### Saliency Map"
      ]
    },
    {
      "cell_type": "code",
      "execution_count": null,
      "metadata": {
        "id": "NGOilkJlgas8",
        "colab": {
          "base_uri": "https://localhost:8080/",
          "height": 930
        },
        "outputId": "ebd909da-b094-4ece-b8a5-03f194afe8e1"
      },
      "outputs": [
        {
          "output_type": "stream",
          "name": "stdout",
          "text": [
            "[ 8  3 21  5 22]\n",
            "Categorical Feature Selected from Saliency Map: ['family support_good', 'firstborn', 'mold', 'edu_M_high', 'water_wall']\n",
            "[41 20  9 15 48]\n",
            "Continuous Features Selected from Saliency Map: ['Tri2_O3', 'Tri1_CO', 'BW_before_D', 'APGAR_5', 'Tri3_NO']\n"
          ]
        },
        {
          "output_type": "execute_result",
          "data": {
            "text/plain": [
              "<BarContainer object of 58 artists>"
            ]
          },
          "metadata": {},
          "execution_count": 104
        },
        {
          "output_type": "display_data",
          "data": {
            "text/plain": [
              "<Figure size 640x480 with 1 Axes>"
            ],
            "image/png": "[encoded data removed]"
          },
          "metadata": {}
        },
        {
          "output_type": "display_data",
          "data": {
            "text/plain": [
              "<Figure size 640x480 with 1 Axes>"
            ],
            "image/png": "[encoded data removed]"
          },
          "metadata": {}
        }
      ],
      "source": [
        "# Calculate the gradient of the loss with respect to each feature\n",
        "# For categorical features, calulate the gradient of the loss with respect to the embedding, and average over embed dimensions\n",
        "model.eval()\n",
        "grads_num = []\n",
        "\n",
        "for x_cat, x_num, y in valid_loader:\n",
        "    x_cat, x_num, y = x_cat.to(config.device), x_num.to(config.device), y.to(config.device)\n",
        "    x_num.requires_grad = True\n",
        "    y_pred = model(x_cat, x_num)\n",
        "    loss = loss_function(y_pred, y)\n",
        "    loss.backward()\n",
        "    grads_num.append(x_num.grad.abs())\n",
        "grads_cat = np.array([model.emb[i].weight.grad.abs().mean().cpu() for i in range(len(num_cat))])\n",
        "grads_num = torch.cat(grads_num, dim=0).mean(dim=0).cpu().numpy()\n",
        "\n",
        "i_cat = np.argsort(grads_cat)[::-1]\n",
        "i_num = np.argsort(grads_num)[::-1]\n",
        "\n",
        "print(i_cat[:5])\n",
        "print(f\"Categorical Feature Selected from Saliency Map: {[categorical_features[i] for i in i_cat[:5]]}\")\n",
        "print(i_num[:5])\n",
        "print(f\"Continuous Features Selected from Saliency Map: {[continuous_features[i] for i in i_num[:5]]}\")\n",
        "\n",
        "\n",
        "\n",
        "# plot the gradients for the categorical features\n",
        "plt.figure()\n",
        "plt.bar(range(len(num_cat)), grads_cat[i_cat])\n",
        "plt.figure()\n",
        "plt.bar(range(103-len(num_cat)), grads_num[i_num])"
      ]
    }
  ],
  "metadata": {
    "kernelspec": {
      "display_name": "Python 3",
      "name": "python3"
    },
    "language_info": {
      "codemirror_mode": {
        "name": "ipython",
        "version": 3
      },
      "file_extension": ".py",
      "mimetype": "text/x-python",
      "name": "python",
      "nbconvert_exporter": "python",
      "pygments_lexer": "ipython3",
      "version": "3.12.2"
    },
    "colab": {
      "provenance": [],
      "gpuType": "T4"
    },
    "accelerator": "GPU"
  },
  "nbformat": 4,
  "nbformat_minor": 0
}